{
  "nbformat": 4,
  "nbformat_minor": 0,
  "metadata": {
    "colab": {
      "name": "BERT.ipynb",
      "provenance": [],
      "collapsed_sections": [],
      "toc_visible": true,
      "authorship_tag": "ABX9TyOoUU/RXjzqwg1B0CgHkuD1",
      "include_colab_link": true
    },
    "kernelspec": {
      "name": "python3",
      "display_name": "Python 3"
    },
    "accelerator": "GPU"
  },
  "cells": [
    {
      "cell_type": "markdown",
      "metadata": {
        "id": "view-in-github",
        "colab_type": "text"
      },
      "source": [
        "<a href=\"https://colab.research.google.com/github/plaban1981/BERT-NLP/blob/master/BERT.ipynb\" target=\"_parent\"><img src=\"https://colab.research.google.com/assets/colab-badge.svg\" alt=\"Open In Colab\"/></a>"
      ]
    },
    {
      "cell_type": "markdown",
      "metadata": {
        "id": "q9a11ThU8-wW",
        "colab_type": "text"
      },
      "source": [
        "## Import Libraries"
      ]
    },
    {
      "cell_type": "code",
      "metadata": {
        "id": "-oLfYZDu8tOS",
        "colab_type": "code",
        "colab": {}
      },
      "source": [
        "import numpy as np\n",
        "import pandas as pd\n",
        "import re\n",
        "import math\n",
        "from bs4 import BeautifulSoup\n",
        "import random\n",
        "from google.colab import drive"
      ],
      "execution_count": 0,
      "outputs": []
    },
    {
      "cell_type": "code",
      "metadata": {
        "id": "dpDydpeP_Uv6",
        "colab_type": "code",
        "colab": {
          "base_uri": "https://localhost:8080/",
          "height": 674
        },
        "outputId": "ee05d33f-b6a0-42b9-8656-03a03bd5625d"
      },
      "source": [
        "!pip install --upgrade tensorflow"
      ],
      "execution_count": 2,
      "outputs": [
        {
          "output_type": "stream",
          "text": [
            "Requirement already up-to-date: tensorflow in /usr/local/lib/python3.6/dist-packages (2.2.0rc2)\n",
            "Requirement already satisfied, skipping upgrade: protobuf>=3.8.0 in /usr/local/lib/python3.6/dist-packages (from tensorflow) (3.10.0)\n",
            "Requirement already satisfied, skipping upgrade: absl-py>=0.7.0 in /usr/local/lib/python3.6/dist-packages (from tensorflow) (0.9.0)\n",
            "Requirement already satisfied, skipping upgrade: tensorflow-estimator<2.3.0,>=2.2.0rc0 in /usr/local/lib/python3.6/dist-packages (from tensorflow) (2.2.0rc0)\n",
            "Requirement already satisfied, skipping upgrade: opt-einsum>=2.3.2 in /usr/local/lib/python3.6/dist-packages (from tensorflow) (3.2.0)\n",
            "Requirement already satisfied, skipping upgrade: astunparse==1.6.3 in /usr/local/lib/python3.6/dist-packages (from tensorflow) (1.6.3)\n",
            "Requirement already satisfied, skipping upgrade: tensorboard<2.3.0,>=2.2.0 in /usr/local/lib/python3.6/dist-packages (from tensorflow) (2.2.0)\n",
            "Requirement already satisfied, skipping upgrade: six>=1.12.0 in /usr/local/lib/python3.6/dist-packages (from tensorflow) (1.12.0)\n",
            "Requirement already satisfied, skipping upgrade: scipy==1.4.1; python_version >= \"3\" in /usr/local/lib/python3.6/dist-packages (from tensorflow) (1.4.1)\n",
            "Requirement already satisfied, skipping upgrade: h5py<2.11.0,>=2.10.0 in /usr/local/lib/python3.6/dist-packages (from tensorflow) (2.10.0)\n",
            "Requirement already satisfied, skipping upgrade: google-pasta>=0.1.8 in /usr/local/lib/python3.6/dist-packages (from tensorflow) (0.2.0)\n",
            "Requirement already satisfied, skipping upgrade: wheel>=0.26; python_version >= \"3\" in /usr/local/lib/python3.6/dist-packages (from tensorflow) (0.34.2)\n",
            "Requirement already satisfied, skipping upgrade: numpy<2.0,>=1.16.0 in /usr/local/lib/python3.6/dist-packages (from tensorflow) (1.18.2)\n",
            "Requirement already satisfied, skipping upgrade: keras-preprocessing>=1.1.0 in /usr/local/lib/python3.6/dist-packages (from tensorflow) (1.1.0)\n",
            "Requirement already satisfied, skipping upgrade: grpcio>=1.8.6 in /usr/local/lib/python3.6/dist-packages (from tensorflow) (1.28.1)\n",
            "Requirement already satisfied, skipping upgrade: gast==0.3.3 in /usr/local/lib/python3.6/dist-packages (from tensorflow) (0.3.3)\n",
            "Requirement already satisfied, skipping upgrade: termcolor>=1.1.0 in /usr/local/lib/python3.6/dist-packages (from tensorflow) (1.1.0)\n",
            "Requirement already satisfied, skipping upgrade: wrapt>=1.11.1 in /usr/local/lib/python3.6/dist-packages (from tensorflow) (1.12.1)\n",
            "Requirement already satisfied, skipping upgrade: setuptools in /usr/local/lib/python3.6/dist-packages (from protobuf>=3.8.0->tensorflow) (46.1.3)\n",
            "Requirement already satisfied, skipping upgrade: tensorboard-plugin-wit>=1.6.0 in /usr/local/lib/python3.6/dist-packages (from tensorboard<2.3.0,>=2.2.0->tensorflow) (1.6.0.post3)\n",
            "Requirement already satisfied, skipping upgrade: requests<3,>=2.21.0 in /usr/local/lib/python3.6/dist-packages (from tensorboard<2.3.0,>=2.2.0->tensorflow) (2.21.0)\n",
            "Requirement already satisfied, skipping upgrade: google-auth<2,>=1.6.3 in /usr/local/lib/python3.6/dist-packages (from tensorboard<2.3.0,>=2.2.0->tensorflow) (1.7.2)\n",
            "Requirement already satisfied, skipping upgrade: google-auth-oauthlib<0.5,>=0.4.1 in /usr/local/lib/python3.6/dist-packages (from tensorboard<2.3.0,>=2.2.0->tensorflow) (0.4.1)\n",
            "Requirement already satisfied, skipping upgrade: markdown>=2.6.8 in /usr/local/lib/python3.6/dist-packages (from tensorboard<2.3.0,>=2.2.0->tensorflow) (3.2.1)\n",
            "Requirement already satisfied, skipping upgrade: werkzeug>=0.11.15 in /usr/local/lib/python3.6/dist-packages (from tensorboard<2.3.0,>=2.2.0->tensorflow) (1.0.1)\n",
            "Requirement already satisfied, skipping upgrade: chardet<3.1.0,>=3.0.2 in /usr/local/lib/python3.6/dist-packages (from requests<3,>=2.21.0->tensorboard<2.3.0,>=2.2.0->tensorflow) (3.0.4)\n",
            "Requirement already satisfied, skipping upgrade: urllib3<1.25,>=1.21.1 in /usr/local/lib/python3.6/dist-packages (from requests<3,>=2.21.0->tensorboard<2.3.0,>=2.2.0->tensorflow) (1.24.3)\n",
            "Requirement already satisfied, skipping upgrade: idna<2.9,>=2.5 in /usr/local/lib/python3.6/dist-packages (from requests<3,>=2.21.0->tensorboard<2.3.0,>=2.2.0->tensorflow) (2.8)\n",
            "Requirement already satisfied, skipping upgrade: certifi>=2017.4.17 in /usr/local/lib/python3.6/dist-packages (from requests<3,>=2.21.0->tensorboard<2.3.0,>=2.2.0->tensorflow) (2020.4.5.1)\n",
            "Requirement already satisfied, skipping upgrade: cachetools<3.2,>=2.0.0 in /usr/local/lib/python3.6/dist-packages (from google-auth<2,>=1.6.3->tensorboard<2.3.0,>=2.2.0->tensorflow) (3.1.1)\n",
            "Requirement already satisfied, skipping upgrade: pyasn1-modules>=0.2.1 in /usr/local/lib/python3.6/dist-packages (from google-auth<2,>=1.6.3->tensorboard<2.3.0,>=2.2.0->tensorflow) (0.2.8)\n",
            "Requirement already satisfied, skipping upgrade: rsa<4.1,>=3.1.4 in /usr/local/lib/python3.6/dist-packages (from google-auth<2,>=1.6.3->tensorboard<2.3.0,>=2.2.0->tensorflow) (4.0)\n",
            "Requirement already satisfied, skipping upgrade: requests-oauthlib>=0.7.0 in /usr/local/lib/python3.6/dist-packages (from google-auth-oauthlib<0.5,>=0.4.1->tensorboard<2.3.0,>=2.2.0->tensorflow) (1.3.0)\n",
            "Requirement already satisfied, skipping upgrade: pyasn1<0.5.0,>=0.4.6 in /usr/local/lib/python3.6/dist-packages (from pyasn1-modules>=0.2.1->google-auth<2,>=1.6.3->tensorboard<2.3.0,>=2.2.0->tensorflow) (0.4.8)\n",
            "Requirement already satisfied, skipping upgrade: oauthlib>=3.0.0 in /usr/local/lib/python3.6/dist-packages (from requests-oauthlib>=0.7.0->google-auth-oauthlib<0.5,>=0.4.1->tensorboard<2.3.0,>=2.2.0->tensorflow) (3.1.0)\n"
          ],
          "name": "stdout"
        }
      ]
    },
    {
      "cell_type": "code",
      "metadata": {
        "id": "QlCZaye2_bw9",
        "colab_type": "code",
        "colab": {
          "base_uri": "https://localhost:8080/",
          "height": 35
        },
        "outputId": "51652fe4-2106-48d1-9593-cd0133be0f05"
      },
      "source": [
        "import tensorflow as tf\n",
        "tf.__version__"
      ],
      "execution_count": 2,
      "outputs": [
        {
          "output_type": "execute_result",
          "data": {
            "text/plain": [
              "'2.2.0-rc2'"
            ]
          },
          "metadata": {
            "tags": []
          },
          "execution_count": 2
        }
      ]
    },
    {
      "cell_type": "code",
      "metadata": {
        "id": "H4k9jy0Z_ntf",
        "colab_type": "code",
        "colab": {
          "base_uri": "https://localhost:8080/",
          "height": 437
        },
        "outputId": "55d4d301-c087-4fb8-8b2f-797022e34aee"
      },
      "source": [
        "!pip install bert-for-tf2"
      ],
      "execution_count": 3,
      "outputs": [
        {
          "output_type": "stream",
          "text": [
            "Collecting bert-for-tf2\n",
            "\u001b[?25l  Downloading https://files.pythonhosted.org/packages/ff/84/1bea6c34d38f3e726830d3adeca76e6e901b98cf5babd635883dbedd7ecc/bert-for-tf2-0.14.1.tar.gz (40kB)\n",
            "\r\u001b[K     |████████                        | 10kB 24.8MB/s eta 0:00:01\r\u001b[K     |████████████████▏               | 20kB 30.7MB/s eta 0:00:01\r\u001b[K     |████████████████████████▎       | 30kB 11.4MB/s eta 0:00:01\r\u001b[K     |████████████████████████████████| 40kB 4.3MB/s \n",
            "\u001b[?25hCollecting py-params>=0.9.6\n",
            "  Downloading https://files.pythonhosted.org/packages/a4/bf/c1c70d5315a8677310ea10a41cfc41c5970d9b37c31f9c90d4ab98021fd1/py-params-0.9.7.tar.gz\n",
            "Collecting params-flow>=0.8.0\n",
            "  Downloading https://files.pythonhosted.org/packages/ac/0d/615c0d4aea541b4f47c761263809a02e160e7a2babd175f0ddd804776cf4/params-flow-0.8.0.tar.gz\n",
            "Requirement already satisfied: numpy in /usr/local/lib/python3.6/dist-packages (from params-flow>=0.8.0->bert-for-tf2) (1.18.2)\n",
            "Requirement already satisfied: tqdm in /usr/local/lib/python3.6/dist-packages (from params-flow>=0.8.0->bert-for-tf2) (4.38.0)\n",
            "Building wheels for collected packages: bert-for-tf2, py-params, params-flow\n",
            "  Building wheel for bert-for-tf2 (setup.py) ... \u001b[?25l\u001b[?25hdone\n",
            "  Created wheel for bert-for-tf2: filename=bert_for_tf2-0.14.1-cp36-none-any.whl size=30083 sha256=ffa94697cc566fea53be2c0febb20da18e226e3019ff552c91b7be665eb59ac9\n",
            "  Stored in directory: /root/.cache/pip/wheels/dd/f1/10/861fd7899727e4034293fb1dfef45b00f8cd476d21d3b3821e\n",
            "  Building wheel for py-params (setup.py) ... \u001b[?25l\u001b[?25hdone\n",
            "  Created wheel for py-params: filename=py_params-0.9.7-cp36-none-any.whl size=7302 sha256=f76b7932ee846d461f517906f1a5a64d44dadc8795494d29281ab445d24ba421\n",
            "  Stored in directory: /root/.cache/pip/wheels/67/f5/19/b461849a50aefdf4bab47c4756596e82ee2118b8278e5a1980\n",
            "  Building wheel for params-flow (setup.py) ... \u001b[?25l\u001b[?25hdone\n",
            "  Created wheel for params-flow: filename=params_flow-0.8.0-cp36-none-any.whl size=15999 sha256=e32ea9e858cf699998b25f4867fe4973edf89ee807e3b6041eb4f5eace272e27\n",
            "  Stored in directory: /root/.cache/pip/wheels/88/41/05/1a9955d1d01575bbd58aab76e22f8c7eeabba905d551576f43\n",
            "Successfully built bert-for-tf2 py-params params-flow\n",
            "Installing collected packages: py-params, params-flow, bert-for-tf2\n",
            "Successfully installed bert-for-tf2-0.14.1 params-flow-0.8.0 py-params-0.9.7\n"
          ],
          "name": "stdout"
        }
      ]
    },
    {
      "cell_type": "code",
      "metadata": {
        "id": "j0sXuC_2_0a_",
        "colab_type": "code",
        "colab": {
          "base_uri": "https://localhost:8080/",
          "height": 128
        },
        "outputId": "25316fbf-5725-454f-8a61-dca8c74056ac"
      },
      "source": [
        "!pip install sentencepiece"
      ],
      "execution_count": 5,
      "outputs": [
        {
          "output_type": "stream",
          "text": [
            "Collecting sentencepiece\n",
            "\u001b[?25l  Downloading https://files.pythonhosted.org/packages/74/f4/2d5214cbf13d06e7cb2c20d84115ca25b53ea76fa1f0ade0e3c9749de214/sentencepiece-0.1.85-cp36-cp36m-manylinux1_x86_64.whl (1.0MB)\n",
            "\r\u001b[K     |▎                               | 10kB 18.8MB/s eta 0:00:01\r\u001b[K     |▋                               | 20kB 26.3MB/s eta 0:00:01\r\u001b[K     |█                               | 30kB 30.8MB/s eta 0:00:01\r\u001b[K     |█▎                              | 40kB 31.5MB/s eta 0:00:01\r\u001b[K     |█▋                              | 51kB 16.0MB/s eta 0:00:01\r\u001b[K     |██                              | 61kB 13.6MB/s eta 0:00:01\r\u001b[K     |██▏                             | 71kB 13.0MB/s eta 0:00:01\r\u001b[K     |██▌                             | 81kB 12.7MB/s eta 0:00:01\r\u001b[K     |██▉                             | 92kB 12.3MB/s eta 0:00:01\r\u001b[K     |███▏                            | 102kB 12.9MB/s eta 0:00:01\r\u001b[K     |███▌                            | 112kB 12.9MB/s eta 0:00:01\r\u001b[K     |███▉                            | 122kB 12.9MB/s eta 0:00:01\r\u001b[K     |████                            | 133kB 12.9MB/s eta 0:00:01\r\u001b[K     |████▍                           | 143kB 12.9MB/s eta 0:00:01\r\u001b[K     |████▊                           | 153kB 12.9MB/s eta 0:00:01\r\u001b[K     |█████                           | 163kB 12.9MB/s eta 0:00:01\r\u001b[K     |█████▍                          | 174kB 12.9MB/s eta 0:00:01\r\u001b[K     |█████▊                          | 184kB 12.9MB/s eta 0:00:01\r\u001b[K     |██████                          | 194kB 12.9MB/s eta 0:00:01\r\u001b[K     |██████▎                         | 204kB 12.9MB/s eta 0:00:01\r\u001b[K     |██████▋                         | 215kB 12.9MB/s eta 0:00:01\r\u001b[K     |███████                         | 225kB 12.9MB/s eta 0:00:01\r\u001b[K     |███████▎                        | 235kB 12.9MB/s eta 0:00:01\r\u001b[K     |███████▋                        | 245kB 12.9MB/s eta 0:00:01\r\u001b[K     |███████▉                        | 256kB 12.9MB/s eta 0:00:01\r\u001b[K     |████████▏                       | 266kB 12.9MB/s eta 0:00:01\r\u001b[K     |████████▌                       | 276kB 12.9MB/s eta 0:00:01\r\u001b[K     |████████▉                       | 286kB 12.9MB/s eta 0:00:01\r\u001b[K     |█████████▏                      | 296kB 12.9MB/s eta 0:00:01\r\u001b[K     |█████████▌                      | 307kB 12.9MB/s eta 0:00:01\r\u001b[K     |█████████▊                      | 317kB 12.9MB/s eta 0:00:01\r\u001b[K     |██████████                      | 327kB 12.9MB/s eta 0:00:01\r\u001b[K     |██████████▍                     | 337kB 12.9MB/s eta 0:00:01\r\u001b[K     |██████████▊                     | 348kB 12.9MB/s eta 0:00:01\r\u001b[K     |███████████                     | 358kB 12.9MB/s eta 0:00:01\r\u001b[K     |███████████▍                    | 368kB 12.9MB/s eta 0:00:01\r\u001b[K     |███████████▋                    | 378kB 12.9MB/s eta 0:00:01\r\u001b[K     |████████████                    | 389kB 12.9MB/s eta 0:00:01\r\u001b[K     |████████████▎                   | 399kB 12.9MB/s eta 0:00:01\r\u001b[K     |████████████▋                   | 409kB 12.9MB/s eta 0:00:01\r\u001b[K     |█████████████                   | 419kB 12.9MB/s eta 0:00:01\r\u001b[K     |█████████████▎                  | 430kB 12.9MB/s eta 0:00:01\r\u001b[K     |█████████████▌                  | 440kB 12.9MB/s eta 0:00:01\r\u001b[K     |█████████████▉                  | 450kB 12.9MB/s eta 0:00:01\r\u001b[K     |██████████████▏                 | 460kB 12.9MB/s eta 0:00:01\r\u001b[K     |██████████████▌                 | 471kB 12.9MB/s eta 0:00:01\r\u001b[K     |██████████████▉                 | 481kB 12.9MB/s eta 0:00:01\r\u001b[K     |███████████████▏                | 491kB 12.9MB/s eta 0:00:01\r\u001b[K     |███████████████▍                | 501kB 12.9MB/s eta 0:00:01\r\u001b[K     |███████████████▊                | 512kB 12.9MB/s eta 0:00:01\r\u001b[K     |████████████████                | 522kB 12.9MB/s eta 0:00:01\r\u001b[K     |████████████████▍               | 532kB 12.9MB/s eta 0:00:01\r\u001b[K     |████████████████▊               | 542kB 12.9MB/s eta 0:00:01\r\u001b[K     |█████████████████               | 552kB 12.9MB/s eta 0:00:01\r\u001b[K     |█████████████████▎              | 563kB 12.9MB/s eta 0:00:01\r\u001b[K     |█████████████████▋              | 573kB 12.9MB/s eta 0:00:01\r\u001b[K     |██████████████████              | 583kB 12.9MB/s eta 0:00:01\r\u001b[K     |██████████████████▎             | 593kB 12.9MB/s eta 0:00:01\r\u001b[K     |██████████████████▋             | 604kB 12.9MB/s eta 0:00:01\r\u001b[K     |███████████████████             | 614kB 12.9MB/s eta 0:00:01\r\u001b[K     |███████████████████▏            | 624kB 12.9MB/s eta 0:00:01\r\u001b[K     |███████████████████▌            | 634kB 12.9MB/s eta 0:00:01\r\u001b[K     |███████████████████▉            | 645kB 12.9MB/s eta 0:00:01\r\u001b[K     |████████████████████▏           | 655kB 12.9MB/s eta 0:00:01\r\u001b[K     |████████████████████▌           | 665kB 12.9MB/s eta 0:00:01\r\u001b[K     |████████████████████▉           | 675kB 12.9MB/s eta 0:00:01\r\u001b[K     |█████████████████████▏          | 686kB 12.9MB/s eta 0:00:01\r\u001b[K     |█████████████████████▍          | 696kB 12.9MB/s eta 0:00:01\r\u001b[K     |█████████████████████▊          | 706kB 12.9MB/s eta 0:00:01\r\u001b[K     |██████████████████████          | 716kB 12.9MB/s eta 0:00:01\r\u001b[K     |██████████████████████▍         | 727kB 12.9MB/s eta 0:00:01\r\u001b[K     |██████████████████████▊         | 737kB 12.9MB/s eta 0:00:01\r\u001b[K     |███████████████████████         | 747kB 12.9MB/s eta 0:00:01\r\u001b[K     |███████████████████████▎        | 757kB 12.9MB/s eta 0:00:01\r\u001b[K     |███████████████████████▋        | 768kB 12.9MB/s eta 0:00:01\r\u001b[K     |████████████████████████        | 778kB 12.9MB/s eta 0:00:01\r\u001b[K     |████████████████████████▎       | 788kB 12.9MB/s eta 0:00:01\r\u001b[K     |████████████████████████▋       | 798kB 12.9MB/s eta 0:00:01\r\u001b[K     |█████████████████████████       | 808kB 12.9MB/s eta 0:00:01\r\u001b[K     |█████████████████████████▏      | 819kB 12.9MB/s eta 0:00:01\r\u001b[K     |█████████████████████████▌      | 829kB 12.9MB/s eta 0:00:01\r\u001b[K     |█████████████████████████▉      | 839kB 12.9MB/s eta 0:00:01\r\u001b[K     |██████████████████████████▏     | 849kB 12.9MB/s eta 0:00:01\r\u001b[K     |██████████████████████████▌     | 860kB 12.9MB/s eta 0:00:01\r\u001b[K     |██████████████████████████▉     | 870kB 12.9MB/s eta 0:00:01\r\u001b[K     |███████████████████████████     | 880kB 12.9MB/s eta 0:00:01\r\u001b[K     |███████████████████████████▍    | 890kB 12.9MB/s eta 0:00:01\r\u001b[K     |███████████████████████████▊    | 901kB 12.9MB/s eta 0:00:01\r\u001b[K     |████████████████████████████    | 911kB 12.9MB/s eta 0:00:01\r\u001b[K     |████████████████████████████▍   | 921kB 12.9MB/s eta 0:00:01\r\u001b[K     |████████████████████████████▊   | 931kB 12.9MB/s eta 0:00:01\r\u001b[K     |█████████████████████████████   | 942kB 12.9MB/s eta 0:00:01\r\u001b[K     |█████████████████████████████▎  | 952kB 12.9MB/s eta 0:00:01\r\u001b[K     |█████████████████████████████▋  | 962kB 12.9MB/s eta 0:00:01\r\u001b[K     |██████████████████████████████  | 972kB 12.9MB/s eta 0:00:01\r\u001b[K     |██████████████████████████████▎ | 983kB 12.9MB/s eta 0:00:01\r\u001b[K     |██████████████████████████████▋ | 993kB 12.9MB/s eta 0:00:01\r\u001b[K     |██████████████████████████████▉ | 1.0MB 12.9MB/s eta 0:00:01\r\u001b[K     |███████████████████████████████▏| 1.0MB 12.9MB/s eta 0:00:01\r\u001b[K     |███████████████████████████████▌| 1.0MB 12.9MB/s eta 0:00:01\r\u001b[K     |███████████████████████████████▉| 1.0MB 12.9MB/s eta 0:00:01\r\u001b[K     |████████████████████████████████| 1.0MB 12.9MB/s \n",
            "\u001b[?25hInstalling collected packages: sentencepiece\n",
            "Successfully installed sentencepiece-0.1.85\n"
          ],
          "name": "stdout"
        }
      ]
    },
    {
      "cell_type": "code",
      "metadata": {
        "id": "9KOIxoi_Azw2",
        "colab_type": "code",
        "colab": {
          "base_uri": "https://localhost:8080/",
          "height": 35
        },
        "outputId": "345c0443-c8fc-48ae-8d1c-65084770c66d"
      },
      "source": [
        "import tensorflow as tf\n",
        "print(tf.__version__)\n",
        "import tensorflow_hub as hub\n",
        "from tensorflow.keras import layers\n",
        "import bert"
      ],
      "execution_count": 6,
      "outputs": [
        {
          "output_type": "stream",
          "text": [
            "2.2.0-rc2\n"
          ],
          "name": "stdout"
        }
      ]
    },
    {
      "cell_type": "markdown",
      "metadata": {
        "id": "ZV0_DmEfBxrf",
        "colab_type": "text"
      },
      "source": [
        "## Loading Files"
      ]
    },
    {
      "cell_type": "code",
      "metadata": {
        "id": "-k1UTJn8B53J",
        "colab_type": "code",
        "colab": {
          "base_uri": "https://localhost:8080/",
          "height": 128
        },
        "outputId": "fb494ccf-b86a-45ec-dff5-7cab651abfbe"
      },
      "source": [
        "drive.mount('/content/drive')"
      ],
      "execution_count": 7,
      "outputs": [
        {
          "output_type": "stream",
          "text": [
            "Go to this URL in a browser: https://accounts.google.com/o/oauth2/auth?client_id=947318989803-6bn6qk8qdgf4n4g3pfee6491hc0brc4i.apps.googleusercontent.com&redirect_uri=urn%3aietf%3awg%3aoauth%3a2.0%3aoob&response_type=code&scope=email%20https%3a%2f%2fwww.googleapis.com%2fauth%2fdocs.test%20https%3a%2f%2fwww.googleapis.com%2fauth%2fdrive%20https%3a%2f%2fwww.googleapis.com%2fauth%2fdrive.photos.readonly%20https%3a%2f%2fwww.googleapis.com%2fauth%2fpeopleapi.readonly\n",
            "\n",
            "Enter your authorization code:\n",
            "··········\n",
            "Mounted at /content/drive\n"
          ],
          "name": "stdout"
        }
      ]
    },
    {
      "cell_type": "code",
      "metadata": {
        "id": "MdWcerDeEFiD",
        "colab_type": "code",
        "colab": {
          "base_uri": "https://localhost:8080/",
          "height": 72
        },
        "outputId": "97a0ef84-77eb-45cf-d40a-60b6453d6504"
      },
      "source": [
        "!unzip '/content/drive/My Drive/sentiments/trainingandtestdata.zip'\n"
      ],
      "execution_count": 8,
      "outputs": [
        {
          "output_type": "stream",
          "text": [
            "Archive:  /content/drive/My Drive/sentiments/trainingandtestdata.zip\n",
            "  inflating: testdata.manual.2009.06.14.csv  \n",
            "  inflating: training.1600000.processed.noemoticon.csv  \n"
          ],
          "name": "stdout"
        }
      ]
    },
    {
      "cell_type": "code",
      "metadata": {
        "id": "Uf1djfLkEH9D",
        "colab_type": "code",
        "colab": {}
      },
      "source": [
        "clos = ['sentiment','id','date','query','user','text']"
      ],
      "execution_count": 0,
      "outputs": []
    },
    {
      "cell_type": "code",
      "metadata": {
        "id": "tGDQA2G7EmEX",
        "colab_type": "code",
        "colab": {
          "base_uri": "https://localhost:8080/",
          "height": 302
        },
        "outputId": "6e200875-5777-400f-8d1c-d831c37ab34d"
      },
      "source": [
        "data = pd.read_csv('/content/training.1600000.processed.noemoticon.csv',\n",
        "                   header=None,names=clos,engine='python',encoding='latin1')\n",
        "data.head()"
      ],
      "execution_count": 10,
      "outputs": [
        {
          "output_type": "execute_result",
          "data": {
            "text/html": [
              "<div>\n",
              "<style scoped>\n",
              "    .dataframe tbody tr th:only-of-type {\n",
              "        vertical-align: middle;\n",
              "    }\n",
              "\n",
              "    .dataframe tbody tr th {\n",
              "        vertical-align: top;\n",
              "    }\n",
              "\n",
              "    .dataframe thead th {\n",
              "        text-align: right;\n",
              "    }\n",
              "</style>\n",
              "<table border=\"1\" class=\"dataframe\">\n",
              "  <thead>\n",
              "    <tr style=\"text-align: right;\">\n",
              "      <th></th>\n",
              "      <th>sentiment</th>\n",
              "      <th>id</th>\n",
              "      <th>date</th>\n",
              "      <th>query</th>\n",
              "      <th>user</th>\n",
              "      <th>text</th>\n",
              "    </tr>\n",
              "  </thead>\n",
              "  <tbody>\n",
              "    <tr>\n",
              "      <th>0</th>\n",
              "      <td>0</td>\n",
              "      <td>1467810369</td>\n",
              "      <td>Mon Apr 06 22:19:45 PDT 2009</td>\n",
              "      <td>NO_QUERY</td>\n",
              "      <td>_TheSpecialOne_</td>\n",
              "      <td>@switchfoot http://twitpic.com/2y1zl - Awww, t...</td>\n",
              "    </tr>\n",
              "    <tr>\n",
              "      <th>1</th>\n",
              "      <td>0</td>\n",
              "      <td>1467810672</td>\n",
              "      <td>Mon Apr 06 22:19:49 PDT 2009</td>\n",
              "      <td>NO_QUERY</td>\n",
              "      <td>scotthamilton</td>\n",
              "      <td>is upset that he can't update his Facebook by ...</td>\n",
              "    </tr>\n",
              "    <tr>\n",
              "      <th>2</th>\n",
              "      <td>0</td>\n",
              "      <td>1467810917</td>\n",
              "      <td>Mon Apr 06 22:19:53 PDT 2009</td>\n",
              "      <td>NO_QUERY</td>\n",
              "      <td>mattycus</td>\n",
              "      <td>@Kenichan I dived many times for the ball. Man...</td>\n",
              "    </tr>\n",
              "    <tr>\n",
              "      <th>3</th>\n",
              "      <td>0</td>\n",
              "      <td>1467811184</td>\n",
              "      <td>Mon Apr 06 22:19:57 PDT 2009</td>\n",
              "      <td>NO_QUERY</td>\n",
              "      <td>ElleCTF</td>\n",
              "      <td>my whole body feels itchy and like its on fire</td>\n",
              "    </tr>\n",
              "    <tr>\n",
              "      <th>4</th>\n",
              "      <td>0</td>\n",
              "      <td>1467811193</td>\n",
              "      <td>Mon Apr 06 22:19:57 PDT 2009</td>\n",
              "      <td>NO_QUERY</td>\n",
              "      <td>Karoli</td>\n",
              "      <td>@nationwideclass no, it's not behaving at all....</td>\n",
              "    </tr>\n",
              "  </tbody>\n",
              "</table>\n",
              "</div>"
            ],
            "text/plain": [
              "   sentiment  ...                                               text\n",
              "0          0  ...  @switchfoot http://twitpic.com/2y1zl - Awww, t...\n",
              "1          0  ...  is upset that he can't update his Facebook by ...\n",
              "2          0  ...  @Kenichan I dived many times for the ball. Man...\n",
              "3          0  ...    my whole body feels itchy and like its on fire \n",
              "4          0  ...  @nationwideclass no, it's not behaving at all....\n",
              "\n",
              "[5 rows x 6 columns]"
            ]
          },
          "metadata": {
            "tags": []
          },
          "execution_count": 10
        }
      ]
    },
    {
      "cell_type": "code",
      "metadata": {
        "id": "IPSOaNaCFgsX",
        "colab_type": "code",
        "colab": {}
      },
      "source": [
        "data.drop(['id','date','query','user'],axis=1,inplace=True)"
      ],
      "execution_count": 0,
      "outputs": []
    },
    {
      "cell_type": "code",
      "metadata": {
        "id": "ZulVqj2VF1z3",
        "colab_type": "code",
        "colab": {
          "base_uri": "https://localhost:8080/",
          "height": 35
        },
        "outputId": "f6a39ec8-cd78-44f2-a274-3c2c9494a937"
      },
      "source": [
        "data.shape"
      ],
      "execution_count": 12,
      "outputs": [
        {
          "output_type": "execute_result",
          "data": {
            "text/plain": [
              "(1600000, 2)"
            ]
          },
          "metadata": {
            "tags": []
          },
          "execution_count": 12
        }
      ]
    },
    {
      "cell_type": "code",
      "metadata": {
        "id": "ouayPv6kF4aG",
        "colab_type": "code",
        "colab": {
          "base_uri": "https://localhost:8080/",
          "height": 198
        },
        "outputId": "9cacbf09-9901-4d56-d0b2-3adb737e6467"
      },
      "source": [
        "data.head()"
      ],
      "execution_count": 13,
      "outputs": [
        {
          "output_type": "execute_result",
          "data": {
            "text/html": [
              "<div>\n",
              "<style scoped>\n",
              "    .dataframe tbody tr th:only-of-type {\n",
              "        vertical-align: middle;\n",
              "    }\n",
              "\n",
              "    .dataframe tbody tr th {\n",
              "        vertical-align: top;\n",
              "    }\n",
              "\n",
              "    .dataframe thead th {\n",
              "        text-align: right;\n",
              "    }\n",
              "</style>\n",
              "<table border=\"1\" class=\"dataframe\">\n",
              "  <thead>\n",
              "    <tr style=\"text-align: right;\">\n",
              "      <th></th>\n",
              "      <th>sentiment</th>\n",
              "      <th>text</th>\n",
              "    </tr>\n",
              "  </thead>\n",
              "  <tbody>\n",
              "    <tr>\n",
              "      <th>0</th>\n",
              "      <td>0</td>\n",
              "      <td>@switchfoot http://twitpic.com/2y1zl - Awww, t...</td>\n",
              "    </tr>\n",
              "    <tr>\n",
              "      <th>1</th>\n",
              "      <td>0</td>\n",
              "      <td>is upset that he can't update his Facebook by ...</td>\n",
              "    </tr>\n",
              "    <tr>\n",
              "      <th>2</th>\n",
              "      <td>0</td>\n",
              "      <td>@Kenichan I dived many times for the ball. Man...</td>\n",
              "    </tr>\n",
              "    <tr>\n",
              "      <th>3</th>\n",
              "      <td>0</td>\n",
              "      <td>my whole body feels itchy and like its on fire</td>\n",
              "    </tr>\n",
              "    <tr>\n",
              "      <th>4</th>\n",
              "      <td>0</td>\n",
              "      <td>@nationwideclass no, it's not behaving at all....</td>\n",
              "    </tr>\n",
              "  </tbody>\n",
              "</table>\n",
              "</div>"
            ],
            "text/plain": [
              "   sentiment                                               text\n",
              "0          0  @switchfoot http://twitpic.com/2y1zl - Awww, t...\n",
              "1          0  is upset that he can't update his Facebook by ...\n",
              "2          0  @Kenichan I dived many times for the ball. Man...\n",
              "3          0    my whole body feels itchy and like its on fire \n",
              "4          0  @nationwideclass no, it's not behaving at all...."
            ]
          },
          "metadata": {
            "tags": []
          },
          "execution_count": 13
        }
      ]
    },
    {
      "cell_type": "markdown",
      "metadata": {
        "id": "SMynkOtIF_MS",
        "colab_type": "text"
      },
      "source": [
        "## Data Preprocessing"
      ]
    },
    {
      "cell_type": "code",
      "metadata": {
        "id": "7Kh2E89SF5nP",
        "colab_type": "code",
        "colab": {}
      },
      "source": [
        "def clean_tweet(tweet):\n",
        "  tweet = BeautifulSoup(tweet,'lxml').get_text()\n",
        "  tweet = re.sub(r\"@[A-Za-z0-9]+\",' ',tweet)\n",
        "  tweet = re.sub(r\"http?s://[A-Za-z0-9./]+\",' ',tweet)\n",
        "  tweet = re.sub(r\"[^a-zA-Z.!?']\",' ',tweet)\n",
        "  tweet = re.sub(r\" +\",' ',tweet)\n",
        "  return tweet"
      ],
      "execution_count": 0,
      "outputs": []
    },
    {
      "cell_type": "code",
      "metadata": {
        "id": "Dn7UxmaTJDsf",
        "colab_type": "code",
        "colab": {}
      },
      "source": [
        "data['cleaned_text'] = data['text'].apply(lambda x : clean_tweet(x))"
      ],
      "execution_count": 0,
      "outputs": []
    },
    {
      "cell_type": "code",
      "metadata": {
        "id": "tA57_ln-KeFI",
        "colab_type": "code",
        "colab": {
          "base_uri": "https://localhost:8080/",
          "height": 198
        },
        "outputId": "39df1efe-6402-4ae5-ab8f-8e64840bb48c"
      },
      "source": [
        "data.head()"
      ],
      "execution_count": 16,
      "outputs": [
        {
          "output_type": "execute_result",
          "data": {
            "text/html": [
              "<div>\n",
              "<style scoped>\n",
              "    .dataframe tbody tr th:only-of-type {\n",
              "        vertical-align: middle;\n",
              "    }\n",
              "\n",
              "    .dataframe tbody tr th {\n",
              "        vertical-align: top;\n",
              "    }\n",
              "\n",
              "    .dataframe thead th {\n",
              "        text-align: right;\n",
              "    }\n",
              "</style>\n",
              "<table border=\"1\" class=\"dataframe\">\n",
              "  <thead>\n",
              "    <tr style=\"text-align: right;\">\n",
              "      <th></th>\n",
              "      <th>sentiment</th>\n",
              "      <th>text</th>\n",
              "      <th>cleaned_text</th>\n",
              "    </tr>\n",
              "  </thead>\n",
              "  <tbody>\n",
              "    <tr>\n",
              "      <th>0</th>\n",
              "      <td>0</td>\n",
              "      <td>@switchfoot http://twitpic.com/2y1zl - Awww, t...</td>\n",
              "      <td>http twitpic.com y zl Awww that's a bummer. Y...</td>\n",
              "    </tr>\n",
              "    <tr>\n",
              "      <th>1</th>\n",
              "      <td>0</td>\n",
              "      <td>is upset that he can't update his Facebook by ...</td>\n",
              "      <td>is upset that he can't update his Facebook by ...</td>\n",
              "    </tr>\n",
              "    <tr>\n",
              "      <th>2</th>\n",
              "      <td>0</td>\n",
              "      <td>@Kenichan I dived many times for the ball. Man...</td>\n",
              "      <td>I dived many times for the ball. Managed to s...</td>\n",
              "    </tr>\n",
              "    <tr>\n",
              "      <th>3</th>\n",
              "      <td>0</td>\n",
              "      <td>my whole body feels itchy and like its on fire</td>\n",
              "      <td>my whole body feels itchy and like its on fire</td>\n",
              "    </tr>\n",
              "    <tr>\n",
              "      <th>4</th>\n",
              "      <td>0</td>\n",
              "      <td>@nationwideclass no, it's not behaving at all....</td>\n",
              "      <td>no it's not behaving at all. i'm mad. why am ...</td>\n",
              "    </tr>\n",
              "  </tbody>\n",
              "</table>\n",
              "</div>"
            ],
            "text/plain": [
              "   sentiment  ...                                       cleaned_text\n",
              "0          0  ...   http twitpic.com y zl Awww that's a bummer. Y...\n",
              "1          0  ...  is upset that he can't update his Facebook by ...\n",
              "2          0  ...   I dived many times for the ball. Managed to s...\n",
              "3          0  ...    my whole body feels itchy and like its on fire \n",
              "4          0  ...   no it's not behaving at all. i'm mad. why am ...\n",
              "\n",
              "[5 rows x 3 columns]"
            ]
          },
          "metadata": {
            "tags": []
          },
          "execution_count": 16
        }
      ]
    },
    {
      "cell_type": "code",
      "metadata": {
        "id": "T2XdM-MSKotf",
        "colab_type": "code",
        "colab": {
          "base_uri": "https://localhost:8080/",
          "height": 72
        },
        "outputId": "40f1f0c8-9ebc-452e-dadc-70dec18b27ee"
      },
      "source": [
        "data.sentiment.value_counts()"
      ],
      "execution_count": 17,
      "outputs": [
        {
          "output_type": "execute_result",
          "data": {
            "text/plain": [
              "4    800000\n",
              "0    800000\n",
              "Name: sentiment, dtype: int64"
            ]
          },
          "metadata": {
            "tags": []
          },
          "execution_count": 17
        }
      ]
    },
    {
      "cell_type": "markdown",
      "metadata": {
        "id": "BEcLc6MfKv-C",
        "colab_type": "text"
      },
      "source": [
        "## converting positive sentiments from 4 to 1"
      ]
    },
    {
      "cell_type": "code",
      "metadata": {
        "id": "YKXNpHEOKz-0",
        "colab_type": "code",
        "colab": {}
      },
      "source": [
        "data_labels = data.sentiment.values\n",
        "data_labels[data_labels == 4] = 1"
      ],
      "execution_count": 0,
      "outputs": []
    },
    {
      "cell_type": "markdown",
      "metadata": {
        "id": "ZDd-K2gfLUrr",
        "colab_type": "text"
      },
      "source": [
        "## Tokenization"
      ]
    },
    {
      "cell_type": "code",
      "metadata": {
        "id": "peaDzWkKLW6p",
        "colab_type": "code",
        "colab": {}
      },
      "source": [
        "FullTokenizer = bert.bert_tokenization.FullTokenizer\n",
        "# all pretrained models are stored in the hub,12 stack of encoders\n",
        "module_url = \"https://tfhub.dev/tensorflow/bert_en_uncased_L-12_H-768_A-12/1\"\n",
        "bert_layer = hub.KerasLayer(module_url,trainable=False)\n",
        "vocab_file = bert_layer.resolved_object.vocab_file.asset_path.numpy()\n",
        "do_lower_case = bert_layer.resolved_object.do_lower_case.numpy()\n",
        "tokenizer = FullTokenizer(vocab_file,do_lower_case)"
      ],
      "execution_count": 0,
      "outputs": []
    },
    {
      "cell_type": "code",
      "metadata": {
        "id": "WDloLPQxOxe7",
        "colab_type": "code",
        "colab": {
          "base_uri": "https://localhost:8080/",
          "height": 35
        },
        "outputId": "50b4454e-de9d-4a3b-bcd8-f89874f06bfd"
      },
      "source": [
        "tokenizer.tokenize('I am going to the auditorium')"
      ],
      "execution_count": 20,
      "outputs": [
        {
          "output_type": "execute_result",
          "data": {
            "text/plain": [
              "['i', 'am', 'going', 'to', 'the', 'auditorium']"
            ]
          },
          "metadata": {
            "tags": []
          },
          "execution_count": 20
        }
      ]
    },
    {
      "cell_type": "code",
      "metadata": {
        "id": "PrX92heFPL5q",
        "colab_type": "code",
        "colab": {
          "base_uri": "https://localhost:8080/",
          "height": 35
        },
        "outputId": "63f1f465-66df-4e20-8032-412791ed9738"
      },
      "source": [
        "tokenizer.convert_tokens_to_ids(tokenizer.tokenize('I am going to the auditorium'))"
      ],
      "execution_count": 21,
      "outputs": [
        {
          "output_type": "execute_result",
          "data": {
            "text/plain": [
              "[1045, 2572, 2183, 2000, 1996, 11448]"
            ]
          },
          "metadata": {
            "tags": []
          },
          "execution_count": 21
        }
      ]
    },
    {
      "cell_type": "code",
      "metadata": {
        "id": "42OeHhn9PnL8",
        "colab_type": "code",
        "colab": {}
      },
      "source": [
        "def encode_sentence(sent):\n",
        "  return tokenizer.convert_tokens_to_ids(tokenizer.tokenize(sent))"
      ],
      "execution_count": 0,
      "outputs": []
    },
    {
      "cell_type": "code",
      "metadata": {
        "id": "fvJyIl0wP5th",
        "colab_type": "code",
        "colab": {}
      },
      "source": [
        "data_cleaned = data.cleaned_text.values\n",
        "data_inputs = [encode_sentence(sent) for sent in data_cleaned]"
      ],
      "execution_count": 0,
      "outputs": []
    },
    {
      "cell_type": "code",
      "metadata": {
        "id": "huHqOJjDQYTO",
        "colab_type": "code",
        "colab": {
          "base_uri": "https://localhost:8080/",
          "height": 635
        },
        "outputId": "415ab780-c4b1-4774-a584-e2be4cf02b59"
      },
      "source": [
        "data_inputs[:1]"
      ],
      "execution_count": 24,
      "outputs": [
        {
          "output_type": "execute_result",
          "data": {
            "text/plain": [
              "[[8299,\n",
              "  1056,\n",
              "  9148,\n",
              "  25856,\n",
              "  2594,\n",
              "  1012,\n",
              "  4012,\n",
              "  1061,\n",
              "  1062,\n",
              "  2140,\n",
              "  22091,\n",
              "  2860,\n",
              "  2860,\n",
              "  2008,\n",
              "  1005,\n",
              "  1055,\n",
              "  1037,\n",
              "  26352,\n",
              "  5017,\n",
              "  1012,\n",
              "  2017,\n",
              "  2323,\n",
              "  2050,\n",
              "  2288,\n",
              "  2585,\n",
              "  12385,\n",
              "  1997,\n",
              "  2353,\n",
              "  2154,\n",
              "  2000,\n",
              "  2079,\n",
              "  2009,\n",
              "  1012,\n",
              "  1040]]"
            ]
          },
          "metadata": {
            "tags": []
          },
          "execution_count": 24
        }
      ]
    },
    {
      "cell_type": "markdown",
      "metadata": {
        "id": "5I58cCyqRtx9",
        "colab_type": "text"
      },
      "source": [
        "## Dataset Creation\n",
        "\n",
        "create padded batches . Add padding at the end of all the sentences so that all the sentences are of the same length"
      ]
    },
    {
      "cell_type": "code",
      "metadata": {
        "id": "lQPX4-6BR0pf",
        "colab_type": "code",
        "colab": {}
      },
      "source": [
        "data_with_len = [[sent,data_labels[i],len(sent)] for i,sent in enumerate(data_inputs)]\n",
        "#shuffle the data so that we will have a combination of positive and negative tweets\n",
        "random.shuffle(data_with_len)\n",
        "#sort data_with_len on the basis of data length\n",
        "data_with_len.sort(key=lambda x:x[2])\n",
        "# not considering sentences with length < 7\n",
        "sorted_all = [(sent_lab[0],sent_lab[1]) for sent_lab in data_with_len if sent_lab[2] > 7]"
      ],
      "execution_count": 0,
      "outputs": []
    },
    {
      "cell_type": "code",
      "metadata": {
        "id": "MoKJxiCmWFoc",
        "colab_type": "code",
        "colab": {
          "base_uri": "https://localhost:8080/",
          "height": 54
        },
        "outputId": "17a8ed12-c75d-4512-e2c0-ac695d75f423"
      },
      "source": [
        "sorted_all[:2]"
      ],
      "execution_count": 26,
      "outputs": [
        {
          "output_type": "execute_result",
          "data": {
            "text/plain": [
              "[([5962, 2000, 14085, 2332, 5624, 4823, 1999, 3009], 1),\n",
              " ([2987, 1005, 1056, 2031, 2115, 2171, 2006, 2009], 1)]"
            ]
          },
          "metadata": {
            "tags": []
          },
          "execution_count": 26
        }
      ]
    },
    {
      "cell_type": "code",
      "metadata": {
        "id": "JxFrvTUVWQ1X",
        "colab_type": "code",
        "colab": {}
      },
      "source": [
        "all_dataset = tf.data.Dataset.from_generator(lambda : sorted_all,output_types=(tf.int32,tf.int32))"
      ],
      "execution_count": 0,
      "outputs": []
    },
    {
      "cell_type": "code",
      "metadata": {
        "id": "cnny4fNmWyy6",
        "colab_type": "code",
        "colab": {
          "base_uri": "https://localhost:8080/",
          "height": 72
        },
        "outputId": "3110d9e8-365f-4c43-c492-314a3ad86379"
      },
      "source": [
        "next(iter(all_dataset))"
      ],
      "execution_count": 28,
      "outputs": [
        {
          "output_type": "execute_result",
          "data": {
            "text/plain": [
              "(<tf.Tensor: shape=(8,), dtype=int32, numpy=\n",
              " array([ 5962,  2000, 14085,  2332,  5624,  4823,  1999,  3009],\n",
              "       dtype=int32)>, <tf.Tensor: shape=(), dtype=int32, numpy=1>)"
            ]
          },
          "metadata": {
            "tags": []
          },
          "execution_count": 28
        }
      ]
    },
    {
      "cell_type": "code",
      "metadata": {
        "id": "-Y6c7X30Y7J4",
        "colab_type": "code",
        "colab": {}
      },
      "source": [
        "BATCH_SIZE = 32\n",
        "all_batched = all_dataset.padded_batch(BATCH_SIZE,padded_shapes=((None,),()))"
      ],
      "execution_count": 0,
      "outputs": []
    },
    {
      "cell_type": "code",
      "metadata": {
        "id": "p0tIZqkNZgVu",
        "colab_type": "code",
        "colab": {
          "base_uri": "https://localhost:8080/",
          "height": 672
        },
        "outputId": "463c762a-450c-4434-9ea9-91c57d427789"
      },
      "source": [
        "next(iter(all_batched))"
      ],
      "execution_count": 30,
      "outputs": [
        {
          "output_type": "execute_result",
          "data": {
            "text/plain": [
              "(<tf.Tensor: shape=(32, 8), dtype=int32, numpy=\n",
              " array([[ 5962,  2000, 14085,  2332,  5624,  4823,  1999,  3009],\n",
              "        [ 2987,  1005,  1056,  2031,  2115,  2171,  2006,  2009],\n",
              "        [ 2300, 10199,  2239,  2003,  1996, 19690,  1997,  5909],\n",
              "        [ 1045,  2031,  4743, 13433,  7361,  2006,  2026,  2067],\n",
              "        [ 3403,  2005,  2026,  4536,  1012,  2821, 26095,  7501],\n",
              "        [ 2074,  3427, 22162,  3892,  1012,  2204,  3185,   999],\n",
              "        [ 1037, 11471,  2041,  5353,  6737,  2001,  3835,  1029],\n",
              "        [ 1038, 13512,  2025,  1996,  2190,  2299,  2005,  2014],\n",
              "        [ 2055,  2102,  2054, 25019,  1029,  6289,  2050,  1012],\n",
              "        [ 1045,  2293,  2025,  2383,  2000,  2175,  2000,  2082],\n",
              "        [14104,  6750,  5749,   999,  1045,  3335,  2383,  1043],\n",
              "        [ 2085,  2042, 10443,  2115,  2061,  1056, 28394,  3215],\n",
              "        [ 1045,  2123,  1005,  1056,  2113,  2054,  2000,  2360],\n",
              "        [15854,  3287, 12687,  2836,  1012,  1012,  1012,  1012],\n",
              "        [ 6293,  2216,  8265,  2073,  2009, 13403,  2068,  2087],\n",
              "        [ 4542,  2006,  2026,  1038, 10259,  1029,  5607,  2033],\n",
              "        [ 4788,  2305,  1997,  5544,  1999,  1037,  2146,  2051],\n",
              "        [ 6300,  2050,  2008,  2003,  6517,  2200,  2200,  6517],\n",
              "        [ 7188, 16142,  2115,  8368,  6134,   999,  4283,   999],\n",
              "        [ 1056,  9148,  2102,  2125,  1012,  9915,  2080,  1012],\n",
              "        [ 2200,  3835, 27263,   999,  2200,  2980,  5003,   999],\n",
              "        [ 2040,  1005,  1055,  2725,  1996,  2387,  2075,  1029],\n",
              "        [ 4365,   999,  2288,  9260,  2147,  2000,  2079,  1012],\n",
              "        [ 5938,  1037,  9882,  2154,  2012,  2147,  1012, 22017],\n",
              "        [ 7592,  8764,  2129,  2024,  2017,  2651,  1029,  1029],\n",
              "        [ 2272,  2000,  2563,   999,   999,   999,   999,   999],\n",
              "        [ 1050,  2094,  2051,  2017,  2109,  2005,  8246,  1012],\n",
              "        [ 4931,  2026, 15876,  4859, 13465,  2232,  2695,  1012],\n",
              "        [ 2635,  2026, 29500,  3338,  1057,  5603,  2061, 17056],\n",
              "        [ 2054,  1005,  1055,  3047,  2000,  2115, 10442,  1029],\n",
              "        [ 2024,  2017,  4147,  2115,  2417, 18247,  3797,  1029],\n",
              "        [ 6300,  2232,  2009,  2347,  1005,  1056,  2205,  2919]],\n",
              "       dtype=int32)>, <tf.Tensor: shape=(32,), dtype=int32, numpy=\n",
              " array([1, 1, 1, 0, 0, 1, 0, 0, 1, 1, 0, 1, 1, 1, 1, 0, 0, 0, 1, 0, 1, 1,\n",
              "        0, 0, 1, 0, 1, 1, 0, 0, 1, 1], dtype=int32)>)"
            ]
          },
          "metadata": {
            "tags": []
          },
          "execution_count": 30
        }
      ]
    },
    {
      "cell_type": "code",
      "metadata": {
        "id": "ZEAyOugrZ3Ar",
        "colab_type": "code",
        "colab": {}
      },
      "source": [
        "NB_BATCHES = math.ceil(len(sorted_all)/BATCH_SIZE)\n",
        "NB_BATCHES_TEST = NB_BATCHES // 10\n",
        "all_batched.shuffle(NB_BATCHES)\n",
        "test_dataset = all_batched.take(NB_BATCHES_TEST)\n",
        "train_dataset = all_batched.skip(NB_BATCHES_TEST)"
      ],
      "execution_count": 0,
      "outputs": []
    },
    {
      "cell_type": "markdown",
      "metadata": {
        "id": "vqKue0m2a4sp",
        "colab_type": "text"
      },
      "source": [
        "## Model Building"
      ]
    },
    {
      "cell_type": "code",
      "metadata": {
        "id": "WHgfESQya1JW",
        "colab_type": "code",
        "colab": {}
      },
      "source": [
        "class DCNN(tf.keras.Model):\n",
        "  def __init__(self,vocab_size,emb_dim=128,nb_filter=50,FFN_units=512,nb_classes=2,dropout_rate=0.1,training = False,name='dcnn'): \n",
        "               super(DCNN,self).__init__(name=name)\n",
        "               self.embedding = layers.Embedding(vocab_size,emb_dim)\n",
        "               self.bigram = layers.Conv1D(nb_filter,kernel_size=2,padding=\"valid\",activation='relu')\n",
        "               self.trigram = layers.Conv1D(nb_filter,kernel_size=3,padding=\"valid\",activation='relu')\n",
        "               self.fourgram = layers.Conv1D(nb_filter,kernel_size=4,padding=\"valid\",activation='relu')\n",
        "               self.pool = layers.GlobalMaxPooling1D()\n",
        "               self.dense_1 = layers.Dense(units=FFN_units,activation='relu')\n",
        "               self.dropout = layers.Dropout(rate=dropout_rate)\n",
        "               if nb_classes == 2:\n",
        "                 self.last_dense = layers.Dense(units=1,activation='sigmoid')\n",
        "               else:\n",
        "                 self.last_dense = layers.Dense(units=nb_classes,activation='softmax')\n",
        "\n",
        "\n",
        "  def call(self,inputs,training):\n",
        "    x = self.embedding(inputs)\n",
        "    x_1 = self.bigram(x)\n",
        "    x_1 = self.pool(x_1)\n",
        "    x_2 = self.trigram(x)\n",
        "    x_2 = self.pool(x_2)\n",
        "    x_3 = self.fourgram(x)\n",
        "    x_3 = self.pool(x_3) # shape = batch_size,filters\n",
        "    merged = tf.concat((x_1,x_2,x_3),axis=1)\n",
        "    merged = self.dense_1(merged)\n",
        "    merged = self.dropout(merged,training)\n",
        "    output = self.last_dense(merged)\n",
        "    return output\n",
        "\n",
        "\n",
        "  "
      ],
      "execution_count": 0,
      "outputs": []
    },
    {
      "cell_type": "markdown",
      "metadata": {
        "id": "SlHl9lgfsATP",
        "colab_type": "text"
      },
      "source": [
        "## Training the Model"
      ]
    },
    {
      "cell_type": "code",
      "metadata": {
        "id": "w31CYFaorwAG",
        "colab_type": "code",
        "colab": {}
      },
      "source": [
        "vocab_size = len(tokenizer.vocab)\n",
        "emb_dim = 200\n",
        "nb_filters = 100\n",
        "FFN_units = 256\n",
        "nb_classes = 2\n",
        "dropout_rate = 0.2\n",
        "nb_epochs = 5\n",
        "\n"
      ],
      "execution_count": 0,
      "outputs": []
    },
    {
      "cell_type": "code",
      "metadata": {
        "id": "VMF1ohNusvbq",
        "colab_type": "code",
        "colab": {}
      },
      "source": [
        "dcnn = DCNN(vocab_size,emb_dim,nb_filters,FFN_units,nb_classes,dropout_rate)"
      ],
      "execution_count": 0,
      "outputs": []
    },
    {
      "cell_type": "code",
      "metadata": {
        "id": "pkDNngPgeC-e",
        "colab_type": "code",
        "colab": {
          "base_uri": "https://localhost:8080/",
          "height": 35
        },
        "outputId": "842f92ec-78ed-49c7-fd74-a86bf3524074"
      },
      "source": [
        "dcnn"
      ],
      "execution_count": 48,
      "outputs": [
        {
          "output_type": "execute_result",
          "data": {
            "text/plain": [
              "<__main__.DCNN at 0x7f8faf061940>"
            ]
          },
          "metadata": {
            "tags": []
          },
          "execution_count": 48
        }
      ]
    },
    {
      "cell_type": "code",
      "metadata": {
        "id": "9uOK9qd3e9KM",
        "colab_type": "code",
        "colab": {}
      },
      "source": [
        "dcnn.compile(loss='binary_crossentropy',optimizer='adam',metrics=['accuracy'])"
      ],
      "execution_count": 0,
      "outputs": []
    },
    {
      "cell_type": "code",
      "metadata": {
        "id": "smVO7_JOtDc4",
        "colab_type": "code",
        "colab": {}
      },
      "source": [
        "if nb_classes == 2:\n",
        "  dcnn.compile(loss='binary_crossentropy',optimizer='adam',metrics=['accuracy'])\n",
        "else :\n",
        "   dcnn.compile(loss='sparse_categorical_crossentropy',optimizer='adam',metrics=['sparse_categorical_accuracy'])"
      ],
      "execution_count": 0,
      "outputs": []
    },
    {
      "cell_type": "code",
      "metadata": {
        "id": "7VeA2ESKKzkD",
        "colab_type": "code",
        "colab": {}
      },
      "source": [
        "checkpoint_path = '/content/drive/My Drive/sentiments'\n",
        "chkpoint = tf.train.Checkpoint(dcnn=dcnn)\n",
        "ckpt_manager = tf.train.CheckpointManager(chkpoint,checkpoint_path,max_to_keep=1)"
      ],
      "execution_count": 0,
      "outputs": []
    },
    {
      "cell_type": "code",
      "metadata": {
        "id": "pnIsOkIVTYzx",
        "colab_type": "code",
        "colab": {}
      },
      "source": [
        "if ckpt_manager.latest_checkpoint:\n",
        "  chkpoint.restore(ckpt_manager.latest_checkpoint)\n",
        "  print('Latest Checkpoint restored')"
      ],
      "execution_count": 0,
      "outputs": []
    },
    {
      "cell_type": "code",
      "metadata": {
        "id": "7Ss8cziBUMhf",
        "colab_type": "code",
        "colab": {}
      },
      "source": [
        "## Custom Callback\n",
        "class MycustomCallBack(tf.keras.callbacks.Callback):\n",
        "  def on_epoch_end(self,epoch,los=None):\n",
        "    ckpt_manager.save()\n",
        "    print(f'Checkpoint saved at {checkpoint_path}')"
      ],
      "execution_count": 0,
      "outputs": []
    },
    {
      "cell_type": "code",
      "metadata": {
        "id": "NVpeh7AWdXG_",
        "colab_type": "code",
        "colab": {
          "base_uri": "https://localhost:8080/",
          "height": 110
        },
        "outputId": "a971bb6d-a7af-43d2-811b-1ca18b1c444a"
      },
      "source": [
        "dcnn.fit(train_dataset,epochs=5)"
      ],
      "execution_count": 65,
      "outputs": [
        {
          "output_type": "stream",
          "text": [
            "Epoch 1/5\n",
            "37586/37586 [==============================] - 2122s 56ms/step - loss: 0.4284 - accuracy: 0.8031\n",
            "Epoch 2/5\n",
            "22940/37586 [=================>............] - ETA: 14:06 - loss: 0.3607 - accuracy: 0.8426Buffered data was truncated after reaching the output size limit."
          ],
          "name": "stdout"
        }
      ]
    },
    {
      "cell_type": "markdown",
      "metadata": {
        "id": "a6EKEDSGLRkV",
        "colab_type": "text"
      },
      "source": [
        "## Evaluation"
      ]
    },
    {
      "cell_type": "code",
      "metadata": {
        "id": "l6ULHHNCLMSZ",
        "colab_type": "code",
        "colab": {
          "base_uri": "https://localhost:8080/",
          "height": 54
        },
        "outputId": "4cbf5c9c-283f-436b-bff6-e001658901ff"
      },
      "source": [
        "results = dcnn.evaluate(test_dataset)\n",
        "print(results)"
      ],
      "execution_count": 66,
      "outputs": [
        {
          "output_type": "stream",
          "text": [
            "4176/4176 [==============================] - 23s 6ms/step - loss: 0.4286 - accuracy: 0.8331\n",
            "[0.4285757839679718, 0.8330714106559753]\n"
          ],
          "name": "stdout"
        }
      ]
    },
    {
      "cell_type": "code",
      "metadata": {
        "id": "eFTMpKaLLzaT",
        "colab_type": "code",
        "colab": {}
      },
      "source": [
        "def get_predictions(sentence):\n",
        "  tokens = encode_sentence(sentence)\n",
        "  inputs = tf.expand_dims(tokens,0)\n",
        "  output = dcnn(inputs,training=False)\n",
        "  \n",
        "  sentiment = np.round(output[0][0])\n",
        "  print(sentiment)\n",
        "  if sentiment == 0:\n",
        "    print(f'output of the model {output} predicted sentiment : Negative')\n",
        "  else:\n",
        "    print(f'output of the model {output} predicted sentiment : Positive')"
      ],
      "execution_count": 0,
      "outputs": []
    },
    {
      "cell_type": "code",
      "metadata": {
        "id": "mZhX7rtANV04",
        "colab_type": "code",
        "colab": {
          "base_uri": "https://localhost:8080/",
          "height": 54
        },
        "outputId": "3963604d-dffc-4bf7-9ff8-65c14289c6fa"
      },
      "source": [
        "get_predictions('I hate you')"
      ],
      "execution_count": 89,
      "outputs": [
        {
          "output_type": "stream",
          "text": [
            "0.0\n",
            "output of the model [[0.42882746]] predicted sentiment : Negative\n"
          ],
          "name": "stdout"
        }
      ]
    },
    {
      "cell_type": "code",
      "metadata": {
        "id": "yThrpexaNswh",
        "colab_type": "code",
        "colab": {
          "base_uri": "https://localhost:8080/",
          "height": 54
        },
        "outputId": "09ed6ce1-817f-42b9-b7fa-38a1ef81bc81"
      },
      "source": [
        "get_predictions('I am very upset with the deeds of my friend')"
      ],
      "execution_count": 90,
      "outputs": [
        {
          "output_type": "stream",
          "text": [
            "0.0\n",
            "output of the model [[1.3876527e-05]] predicted sentiment : Negative\n"
          ],
          "name": "stdout"
        }
      ]
    },
    {
      "cell_type": "code",
      "metadata": {
        "id": "2qTa9sRrPGXx",
        "colab_type": "code",
        "colab": {
          "base_uri": "https://localhost:8080/",
          "height": 54
        },
        "outputId": "dbc28254-16da-498a-ee06-b764816e232a"
      },
      "source": [
        "get_predictions('I am feeling good')"
      ],
      "execution_count": 91,
      "outputs": [
        {
          "output_type": "stream",
          "text": [
            "1.0\n",
            "output of the model [[0.9966845]] predicted sentiment : Positive\n"
          ],
          "name": "stdout"
        }
      ]
    }
  ]
}