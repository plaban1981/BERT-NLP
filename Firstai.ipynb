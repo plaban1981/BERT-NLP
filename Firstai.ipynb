{
  "nbformat": 4,
  "nbformat_minor": 0,
  "metadata": {
    "colab": {
      "name": "Firstai.ipynb",
      "provenance": [],
      "authorship_tag": "ABX9TyOb4nL47huSPG9dHu4M85U4",
      "include_colab_link": true
    },
    "kernelspec": {
      "name": "python3",
      "display_name": "Python 3"
    },
    "accelerator": "GPU"
  },
  "cells": [
    {
      "cell_type": "markdown",
      "metadata": {
        "id": "view-in-github",
        "colab_type": "text"
      },
      "source": [
        "<a href=\"https://colab.research.google.com/github/plaban1981/BERT-NLP/blob/master/Firstai.ipynb\" target=\"_parent\"><img src=\"https://colab.research.google.com/assets/colab-badge.svg\" alt=\"Open In Colab\"/></a>"
      ]
    },
    {
      "cell_type": "code",
      "metadata": {
        "id": "hedX-3PT4-0J",
        "colab_type": "code",
        "colab": {}
      },
      "source": [
        "from fastai.text import *"
      ],
      "execution_count": 1,
      "outputs": []
    },
    {
      "cell_type": "code",
      "metadata": {
        "id": "KXK_N5L65EL3",
        "colab_type": "code",
        "colab": {
          "base_uri": "https://localhost:8080/",
          "height": 122
        },
        "outputId": "2f3f14f3-0311-46d3-b090-a5f74c7f906d"
      },
      "source": [
        "from google.colab import drive\n",
        "drive.mount('/content/drive')"
      ],
      "execution_count": 2,
      "outputs": [
        {
          "output_type": "stream",
          "text": [
            "Go to this URL in a browser: https://accounts.google.com/o/oauth2/auth?client_id=947318989803-6bn6qk8qdgf4n4g3pfee6491hc0brc4i.apps.googleusercontent.com&redirect_uri=urn%3aietf%3awg%3aoauth%3a2.0%3aoob&response_type=code&scope=email%20https%3a%2f%2fwww.googleapis.com%2fauth%2fdocs.test%20https%3a%2f%2fwww.googleapis.com%2fauth%2fdrive%20https%3a%2f%2fwww.googleapis.com%2fauth%2fdrive.photos.readonly%20https%3a%2f%2fwww.googleapis.com%2fauth%2fpeopleapi.readonly\n",
            "\n",
            "Enter your authorization code:\n",
            "··········\n",
            "Mounted at /content/drive\n"
          ],
          "name": "stdout"
        }
      ]
    },
    {
      "cell_type": "code",
      "metadata": {
        "id": "g-RkIW0S5bP9",
        "colab_type": "code",
        "colab": {
          "base_uri": "https://localhost:8080/",
          "height": 71
        },
        "outputId": "71337e23-9e3b-4249-fa80-7af188f538ca"
      },
      "source": [
        "import pandas as pd\n",
        "import numpy as np\n",
        "import seaborn as sns\n",
        "import matplotlib.pyplot as plt"
      ],
      "execution_count": 3,
      "outputs": [
        {
          "output_type": "stream",
          "text": [
            "/usr/local/lib/python3.6/dist-packages/statsmodels/tools/_testing.py:19: FutureWarning: pandas.util.testing is deprecated. Use the functions in the public API at pandas.testing instead.\n",
            "  import pandas.util.testing as tm\n"
          ],
          "name": "stderr"
        }
      ]
    },
    {
      "cell_type": "code",
      "metadata": {
        "id": "JJQBG-ng6Rwc",
        "colab_type": "code",
        "colab": {}
      },
      "source": [
        "train = pd.read_csv('/content/drive/My Drive/Zindi/Tech4MentalHealth/Train.csv')\n",
        "test = pd.read_csv('/content/drive/My Drive/Zindi/Tech4MentalHealth/Test.csv')"
      ],
      "execution_count": 29,
      "outputs": []
    },
    {
      "cell_type": "code",
      "metadata": {
        "id": "EgLQbwMx6aYO",
        "colab_type": "code",
        "colab": {
          "base_uri": "https://localhost:8080/",
          "height": 204
        },
        "outputId": "87055e08-45fb-47d1-9be1-a29eb98033dd"
      },
      "source": [
        "train.head()"
      ],
      "execution_count": 5,
      "outputs": [
        {
          "output_type": "execute_result",
          "data": {
            "text/html": [
              "<div>\n",
              "<style scoped>\n",
              "    .dataframe tbody tr th:only-of-type {\n",
              "        vertical-align: middle;\n",
              "    }\n",
              "\n",
              "    .dataframe tbody tr th {\n",
              "        vertical-align: top;\n",
              "    }\n",
              "\n",
              "    .dataframe thead th {\n",
              "        text-align: right;\n",
              "    }\n",
              "</style>\n",
              "<table border=\"1\" class=\"dataframe\">\n",
              "  <thead>\n",
              "    <tr style=\"text-align: right;\">\n",
              "      <th></th>\n",
              "      <th>ID</th>\n",
              "      <th>text</th>\n",
              "      <th>label</th>\n",
              "    </tr>\n",
              "  </thead>\n",
              "  <tbody>\n",
              "    <tr>\n",
              "      <th>0</th>\n",
              "      <td>SUAVK39Z</td>\n",
              "      <td>I feel that it was better I dieAm happy</td>\n",
              "      <td>Depression</td>\n",
              "    </tr>\n",
              "    <tr>\n",
              "      <th>1</th>\n",
              "      <td>9JDAGUV3</td>\n",
              "      <td>Why do I get hallucinations?</td>\n",
              "      <td>Drugs</td>\n",
              "    </tr>\n",
              "    <tr>\n",
              "      <th>2</th>\n",
              "      <td>419WR1LQ</td>\n",
              "      <td>I am stresseed due to lack of financial suppor...</td>\n",
              "      <td>Depression</td>\n",
              "    </tr>\n",
              "    <tr>\n",
              "      <th>3</th>\n",
              "      <td>6UY7DX6Q</td>\n",
              "      <td>Why is life important?</td>\n",
              "      <td>Suicide</td>\n",
              "    </tr>\n",
              "    <tr>\n",
              "      <th>4</th>\n",
              "      <td>FYC0FTFB</td>\n",
              "      <td>How could I be helped to go through the depres...</td>\n",
              "      <td>Depression</td>\n",
              "    </tr>\n",
              "  </tbody>\n",
              "</table>\n",
              "</div>"
            ],
            "text/plain": [
              "         ID                                               text       label\n",
              "0  SUAVK39Z            I feel that it was better I dieAm happy  Depression\n",
              "1  9JDAGUV3                       Why do I get hallucinations?       Drugs\n",
              "2  419WR1LQ  I am stresseed due to lack of financial suppor...  Depression\n",
              "3  6UY7DX6Q                             Why is life important?     Suicide\n",
              "4  FYC0FTFB  How could I be helped to go through the depres...  Depression"
            ]
          },
          "metadata": {
            "tags": []
          },
          "execution_count": 5
        }
      ]
    },
    {
      "cell_type": "code",
      "metadata": {
        "id": "ee_qggFN9Eg1",
        "colab_type": "code",
        "colab": {}
      },
      "source": [
        "label_encoded = pd.get_dummies(train['label'])"
      ],
      "execution_count": 7,
      "outputs": []
    },
    {
      "cell_type": "code",
      "metadata": {
        "id": "j5yjF-tB977v",
        "colab_type": "code",
        "colab": {}
      },
      "source": [
        "train = pd.concat([train,label_encoded],axis=1)"
      ],
      "execution_count": 8,
      "outputs": []
    },
    {
      "cell_type": "code",
      "metadata": {
        "id": "oAeMfCF2-G--",
        "colab_type": "code",
        "colab": {
          "base_uri": "https://localhost:8080/",
          "height": 204
        },
        "outputId": "4a9fbbb9-da34-4162-db00-5828f7d674a2"
      },
      "source": [
        "train.head()"
      ],
      "execution_count": 9,
      "outputs": [
        {
          "output_type": "execute_result",
          "data": {
            "text/html": [
              "<div>\n",
              "<style scoped>\n",
              "    .dataframe tbody tr th:only-of-type {\n",
              "        vertical-align: middle;\n",
              "    }\n",
              "\n",
              "    .dataframe tbody tr th {\n",
              "        vertical-align: top;\n",
              "    }\n",
              "\n",
              "    .dataframe thead th {\n",
              "        text-align: right;\n",
              "    }\n",
              "</style>\n",
              "<table border=\"1\" class=\"dataframe\">\n",
              "  <thead>\n",
              "    <tr style=\"text-align: right;\">\n",
              "      <th></th>\n",
              "      <th>ID</th>\n",
              "      <th>text</th>\n",
              "      <th>label</th>\n",
              "      <th>Alcohol</th>\n",
              "      <th>Depression</th>\n",
              "      <th>Drugs</th>\n",
              "      <th>Suicide</th>\n",
              "    </tr>\n",
              "  </thead>\n",
              "  <tbody>\n",
              "    <tr>\n",
              "      <th>0</th>\n",
              "      <td>SUAVK39Z</td>\n",
              "      <td>I feel that it was better I dieAm happy</td>\n",
              "      <td>Depression</td>\n",
              "      <td>0</td>\n",
              "      <td>1</td>\n",
              "      <td>0</td>\n",
              "      <td>0</td>\n",
              "    </tr>\n",
              "    <tr>\n",
              "      <th>1</th>\n",
              "      <td>9JDAGUV3</td>\n",
              "      <td>Why do I get hallucinations?</td>\n",
              "      <td>Drugs</td>\n",
              "      <td>0</td>\n",
              "      <td>0</td>\n",
              "      <td>1</td>\n",
              "      <td>0</td>\n",
              "    </tr>\n",
              "    <tr>\n",
              "      <th>2</th>\n",
              "      <td>419WR1LQ</td>\n",
              "      <td>I am stresseed due to lack of financial suppor...</td>\n",
              "      <td>Depression</td>\n",
              "      <td>0</td>\n",
              "      <td>1</td>\n",
              "      <td>0</td>\n",
              "      <td>0</td>\n",
              "    </tr>\n",
              "    <tr>\n",
              "      <th>3</th>\n",
              "      <td>6UY7DX6Q</td>\n",
              "      <td>Why is life important?</td>\n",
              "      <td>Suicide</td>\n",
              "      <td>0</td>\n",
              "      <td>0</td>\n",
              "      <td>0</td>\n",
              "      <td>1</td>\n",
              "    </tr>\n",
              "    <tr>\n",
              "      <th>4</th>\n",
              "      <td>FYC0FTFB</td>\n",
              "      <td>How could I be helped to go through the depres...</td>\n",
              "      <td>Depression</td>\n",
              "      <td>0</td>\n",
              "      <td>1</td>\n",
              "      <td>0</td>\n",
              "      <td>0</td>\n",
              "    </tr>\n",
              "  </tbody>\n",
              "</table>\n",
              "</div>"
            ],
            "text/plain": [
              "         ID                                               text  ... Drugs  Suicide\n",
              "0  SUAVK39Z            I feel that it was better I dieAm happy  ...     0        0\n",
              "1  9JDAGUV3                       Why do I get hallucinations?  ...     1        0\n",
              "2  419WR1LQ  I am stresseed due to lack of financial suppor...  ...     0        0\n",
              "3  6UY7DX6Q                             Why is life important?  ...     0        1\n",
              "4  FYC0FTFB  How could I be helped to go through the depres...  ...     0        0\n",
              "\n",
              "[5 rows x 7 columns]"
            ]
          },
          "metadata": {
            "tags": []
          },
          "execution_count": 9
        }
      ]
    },
    {
      "cell_type": "code",
      "metadata": {
        "id": "DW2RhAS4-N7i",
        "colab_type": "code",
        "colab": {
          "base_uri": "https://localhost:8080/",
          "height": 34
        },
        "outputId": "cc60de58-118b-428e-84b7-f2a86459125c"
      },
      "source": [
        "train.columns"
      ],
      "execution_count": 10,
      "outputs": [
        {
          "output_type": "execute_result",
          "data": {
            "text/plain": [
              "Index(['ID', 'text', 'label', 'Alcohol', 'Depression', 'Drugs', 'Suicide'], dtype='object')"
            ]
          },
          "metadata": {
            "tags": []
          },
          "execution_count": 10
        }
      ]
    },
    {
      "cell_type": "code",
      "metadata": {
        "id": "DxKSP3_f_4h5",
        "colab_type": "code",
        "colab": {}
      },
      "source": [
        ""
      ],
      "execution_count": null,
      "outputs": []
    },
    {
      "cell_type": "code",
      "metadata": {
        "id": "nvfNIcUG-Ihd",
        "colab_type": "code",
        "colab": {}
      },
      "source": [
        "train_data = train[['text', 'Alcohol', 'Depression', 'Drugs', 'Suicide']]"
      ],
      "execution_count": 11,
      "outputs": []
    },
    {
      "cell_type": "code",
      "metadata": {
        "id": "mgDK9523-U_1",
        "colab_type": "code",
        "colab": {
          "base_uri": "https://localhost:8080/",
          "height": 204
        },
        "outputId": "2f55e725-962d-4a60-d618-d4fc84151f94"
      },
      "source": [
        "train_data.head()"
      ],
      "execution_count": 12,
      "outputs": [
        {
          "output_type": "execute_result",
          "data": {
            "text/html": [
              "<div>\n",
              "<style scoped>\n",
              "    .dataframe tbody tr th:only-of-type {\n",
              "        vertical-align: middle;\n",
              "    }\n",
              "\n",
              "    .dataframe tbody tr th {\n",
              "        vertical-align: top;\n",
              "    }\n",
              "\n",
              "    .dataframe thead th {\n",
              "        text-align: right;\n",
              "    }\n",
              "</style>\n",
              "<table border=\"1\" class=\"dataframe\">\n",
              "  <thead>\n",
              "    <tr style=\"text-align: right;\">\n",
              "      <th></th>\n",
              "      <th>text</th>\n",
              "      <th>Alcohol</th>\n",
              "      <th>Depression</th>\n",
              "      <th>Drugs</th>\n",
              "      <th>Suicide</th>\n",
              "    </tr>\n",
              "  </thead>\n",
              "  <tbody>\n",
              "    <tr>\n",
              "      <th>0</th>\n",
              "      <td>I feel that it was better I dieAm happy</td>\n",
              "      <td>0</td>\n",
              "      <td>1</td>\n",
              "      <td>0</td>\n",
              "      <td>0</td>\n",
              "    </tr>\n",
              "    <tr>\n",
              "      <th>1</th>\n",
              "      <td>Why do I get hallucinations?</td>\n",
              "      <td>0</td>\n",
              "      <td>0</td>\n",
              "      <td>1</td>\n",
              "      <td>0</td>\n",
              "    </tr>\n",
              "    <tr>\n",
              "      <th>2</th>\n",
              "      <td>I am stresseed due to lack of financial suppor...</td>\n",
              "      <td>0</td>\n",
              "      <td>1</td>\n",
              "      <td>0</td>\n",
              "      <td>0</td>\n",
              "    </tr>\n",
              "    <tr>\n",
              "      <th>3</th>\n",
              "      <td>Why is life important?</td>\n",
              "      <td>0</td>\n",
              "      <td>0</td>\n",
              "      <td>0</td>\n",
              "      <td>1</td>\n",
              "    </tr>\n",
              "    <tr>\n",
              "      <th>4</th>\n",
              "      <td>How could I be helped to go through the depres...</td>\n",
              "      <td>0</td>\n",
              "      <td>1</td>\n",
              "      <td>0</td>\n",
              "      <td>0</td>\n",
              "    </tr>\n",
              "  </tbody>\n",
              "</table>\n",
              "</div>"
            ],
            "text/plain": [
              "                                                text  Alcohol  ...  Drugs  Suicide\n",
              "0            I feel that it was better I dieAm happy        0  ...      0        0\n",
              "1                       Why do I get hallucinations?        0  ...      1        0\n",
              "2  I am stresseed due to lack of financial suppor...        0  ...      0        0\n",
              "3                             Why is life important?        0  ...      0        1\n",
              "4  How could I be helped to go through the depres...        0  ...      0        0\n",
              "\n",
              "[5 rows x 5 columns]"
            ]
          },
          "metadata": {
            "tags": []
          },
          "execution_count": 12
        }
      ]
    },
    {
      "cell_type": "code",
      "metadata": {
        "id": "GTIWCaAx-W2V",
        "colab_type": "code",
        "colab": {
          "base_uri": "https://localhost:8080/",
          "height": 139
        },
        "outputId": "ce8213b8-9b6c-4431-858a-d3e9dea91fb5"
      },
      "source": [
        "# Remove punctuation or symbol from the text data\n",
        "train_data['text'] = train_data['text'].str.replace('([“”¨«»®´·º½¾¿¡§£₤‘’])', '')\n",
        "test['text'] = test['text'].str.replace('([“”¨«»®´·º½¾¿¡§£₤‘’])', '')\n"
      ],
      "execution_count": 13,
      "outputs": [
        {
          "output_type": "stream",
          "text": [
            "/usr/local/lib/python3.6/dist-packages/ipykernel_launcher.py:2: SettingWithCopyWarning: \n",
            "A value is trying to be set on a copy of a slice from a DataFrame.\n",
            "Try using .loc[row_indexer,col_indexer] = value instead\n",
            "\n",
            "See the caveats in the documentation: https://pandas.pydata.org/pandas-docs/stable/user_guide/indexing.html#returning-a-view-versus-a-copy\n",
            "  \n"
          ],
          "name": "stderr"
        }
      ]
    },
    {
      "cell_type": "code",
      "metadata": {
        "id": "Glvgt5gQ-mdO",
        "colab_type": "code",
        "colab": {
          "base_uri": "https://localhost:8080/",
          "height": 204
        },
        "outputId": "c924d9ef-5791-4b75-9dbf-979642a43d47"
      },
      "source": [
        "train_data.head()"
      ],
      "execution_count": 14,
      "outputs": [
        {
          "output_type": "execute_result",
          "data": {
            "text/html": [
              "<div>\n",
              "<style scoped>\n",
              "    .dataframe tbody tr th:only-of-type {\n",
              "        vertical-align: middle;\n",
              "    }\n",
              "\n",
              "    .dataframe tbody tr th {\n",
              "        vertical-align: top;\n",
              "    }\n",
              "\n",
              "    .dataframe thead th {\n",
              "        text-align: right;\n",
              "    }\n",
              "</style>\n",
              "<table border=\"1\" class=\"dataframe\">\n",
              "  <thead>\n",
              "    <tr style=\"text-align: right;\">\n",
              "      <th></th>\n",
              "      <th>text</th>\n",
              "      <th>Alcohol</th>\n",
              "      <th>Depression</th>\n",
              "      <th>Drugs</th>\n",
              "      <th>Suicide</th>\n",
              "    </tr>\n",
              "  </thead>\n",
              "  <tbody>\n",
              "    <tr>\n",
              "      <th>0</th>\n",
              "      <td>I feel that it was better I dieAm happy</td>\n",
              "      <td>0</td>\n",
              "      <td>1</td>\n",
              "      <td>0</td>\n",
              "      <td>0</td>\n",
              "    </tr>\n",
              "    <tr>\n",
              "      <th>1</th>\n",
              "      <td>Why do I get hallucinations?</td>\n",
              "      <td>0</td>\n",
              "      <td>0</td>\n",
              "      <td>1</td>\n",
              "      <td>0</td>\n",
              "    </tr>\n",
              "    <tr>\n",
              "      <th>2</th>\n",
              "      <td>I am stresseed due to lack of financial suppor...</td>\n",
              "      <td>0</td>\n",
              "      <td>1</td>\n",
              "      <td>0</td>\n",
              "      <td>0</td>\n",
              "    </tr>\n",
              "    <tr>\n",
              "      <th>3</th>\n",
              "      <td>Why is life important?</td>\n",
              "      <td>0</td>\n",
              "      <td>0</td>\n",
              "      <td>0</td>\n",
              "      <td>1</td>\n",
              "    </tr>\n",
              "    <tr>\n",
              "      <th>4</th>\n",
              "      <td>How could I be helped to go through the depres...</td>\n",
              "      <td>0</td>\n",
              "      <td>1</td>\n",
              "      <td>0</td>\n",
              "      <td>0</td>\n",
              "    </tr>\n",
              "  </tbody>\n",
              "</table>\n",
              "</div>"
            ],
            "text/plain": [
              "                                                text  Alcohol  ...  Drugs  Suicide\n",
              "0            I feel that it was better I dieAm happy        0  ...      0        0\n",
              "1                       Why do I get hallucinations?        0  ...      1        0\n",
              "2  I am stresseed due to lack of financial suppor...        0  ...      0        0\n",
              "3                             Why is life important?        0  ...      0        1\n",
              "4  How could I be helped to go through the depres...        0  ...      0        0\n",
              "\n",
              "[5 rows x 5 columns]"
            ]
          },
          "metadata": {
            "tags": []
          },
          "execution_count": 14
        }
      ]
    },
    {
      "cell_type": "code",
      "metadata": {
        "id": "2BnPhoYT-kWQ",
        "colab_type": "code",
        "colab": {
          "base_uri": "https://localhost:8080/",
          "height": 374
        },
        "outputId": "35b4bc4a-41d5-4b80-fcc0-9e7d77417c01"
      },
      "source": [
        "# Create databunch\n",
        "data = (TextList.from_df(train_data, cols='text')\n",
        "                .split_by_rand_pct(0.2)\n",
        "                .label_for_lm()  \n",
        "                .databunch(bs=16))\n",
        "data.show_batch()"
      ],
      "execution_count": 20,
      "outputs": [
        {
          "output_type": "display_data",
          "data": {
            "text/html": [
              ""
            ],
            "text/plain": [
              "<IPython.core.display.HTML object>"
            ]
          },
          "metadata": {
            "tags": []
          }
        },
        {
          "output_type": "display_data",
          "data": {
            "text/html": [
              ""
            ],
            "text/plain": [
              "<IPython.core.display.HTML object>"
            ]
          },
          "metadata": {
            "tags": []
          }
        },
        {
          "output_type": "display_data",
          "data": {
            "text/html": [
              "<table border=\"1\" class=\"dataframe\">\n",
              "  <thead>\n",
              "    <tr style=\"text-align: right;\">\n",
              "      <th>idx</th>\n",
              "      <th>text</th>\n",
              "    </tr>\n",
              "  </thead>\n",
              "  <tbody>\n",
              "    <tr>\n",
              "      <td>0</td>\n",
              "      <td>xxunk sad , alone and always on xxunk i know how to cope with xxunk xxunk in my life xxbos i feel xxunk , xxunk xxunk xxbos i experienced depression in my xxunk xxbos i feel like am alone in this world xxbos i feel low and out of place xxbos i feel hopeless , unworthy and xxunk … xxmaj how do i cope with stress and xxunk the past</td>\n",
              "    </tr>\n",
              "    <tr>\n",
              "      <td>1</td>\n",
              "      <td>xxbos xxmaj what to do to xxunk the bad feeling ? xxbos xxmaj too much xxunk , and how do i cope xxunk many xxunk xxbos xxmaj how can i stop alcohol xxbos i am xxunk a lot of challenges in life financially , emotionally , xxunk and with no solutions … xxmaj how can i xxunk xxunk for solutions about depression on xxunk xxbos i always feel down xxbos</td>\n",
              "    </tr>\n",
              "    <tr>\n",
              "      <td>2</td>\n",
              "      <td>xxbos should i stop drinking alcohol xxbos i feel so xxunk , why does this xxunk ? xxbos xxmaj what is the best way to xxunk from drugs ? xxbos xxmaj feelings of xxunk and xxunk and feelings of xxunk xxbos xxmaj what is a good of life ? xxbos xxmaj what are the effects of depression ? xxbos xxmaj xxunk to take to overcome suicidal thoughts xxbos how do</td>\n",
              "    </tr>\n",
              "    <tr>\n",
              "      <td>3</td>\n",
              "      <td>xxunk my money on alcohol with friends xxbos xxmaj xxunk xxbos xxmaj how does one come out of depression ? xxbos xxmaj how to stop the addiction xxbos i am xxmaj lonely and xxunk myself , xxunk because of relationship issues xxbos i 'm still depressed and xxunk of my xxunk health xxbos xxmaj how will i stop ? xxbos xxmaj what can one do to reduce the feeling of</td>\n",
              "    </tr>\n",
              "    <tr>\n",
              "      <td>4</td>\n",
              "      <td>i feel xxunk okay xxbos i feel low and lost xxunk in xxunk feel better now xxbos i have a xxunk that xxunk all xxunk from my family xxbos i am xxunk in a xxmaj xxunk xxunk and i would like to know xxunk can i control myself ? xxbos i xxunk money on alcohol xxbos xxmaj what are the effects of smoking bhang ? xxbos xxmaj what are the</td>\n",
              "    </tr>\n",
              "  </tbody>\n",
              "</table>"
            ],
            "text/plain": [
              "<IPython.core.display.HTML object>"
            ]
          },
          "metadata": {
            "tags": []
          }
        }
      ]
    },
    {
      "cell_type": "markdown",
      "metadata": {
        "id": "GqdNzhvq--VW",
        "colab_type": "text"
      },
      "source": [
        "# Fit the deep learning model with domain specific data\n",
        "\n",
        "First, we will fit our model with train data without target values so that our model knows better about our data."
      ]
    },
    {
      "cell_type": "code",
      "metadata": {
        "id": "zLI26HLL-yLW",
        "colab_type": "code",
        "colab": {
          "base_uri": "https://localhost:8080/",
          "height": 963
        },
        "outputId": "830c977b-633d-436c-f3dd-650f33f37c7d"
      },
      "source": [
        "learn = language_model_learner(data,AWD_LSTM, drop_mult=0.3)\n",
        "\n",
        "# select the appropriate learning rate\n",
        "learn.lr_find()\n",
        "\n",
        "# we typically find the point where the slope is steepest\n",
        "learn.recorder.plot()"
      ],
      "execution_count": 21,
      "outputs": [
        {
          "output_type": "display_data",
          "data": {
            "text/html": [
              "\n",
              "    <div>\n",
              "        <style>\n",
              "            /* Turns off some styling */\n",
              "            progress {\n",
              "                /* gets rid of default border in Firefox and Opera. */\n",
              "                border: none;\n",
              "                /* Needs to be in here for Safari polyfill so background images work as expected. */\n",
              "                background-size: auto;\n",
              "            }\n",
              "            .progress-bar-interrupted, .progress-bar-interrupted::-webkit-progress-bar {\n",
              "                background: #F44336;\n",
              "            }\n",
              "        </style>\n",
              "      <progress value='19' class='' max='20' style='width:300px; height:20px; vertical-align: middle;'></progress>\n",
              "      95.00% [19/20 00:13<00:00]\n",
              "    </div>\n",
              "    \n",
              "<table border=\"1\" class=\"dataframe\">\n",
              "  <thead>\n",
              "    <tr style=\"text-align: left;\">\n",
              "      <th>epoch</th>\n",
              "      <th>train_loss</th>\n",
              "      <th>valid_loss</th>\n",
              "      <th>accuracy</th>\n",
              "      <th>time</th>\n",
              "    </tr>\n",
              "  </thead>\n",
              "  <tbody>\n",
              "    <tr>\n",
              "      <td>0</td>\n",
              "      <td>4.874393</td>\n",
              "      <td>#na#</td>\n",
              "      <td>00:00</td>\n",
              "    </tr>\n",
              "    <tr>\n",
              "      <td>1</td>\n",
              "      <td>4.864886</td>\n",
              "      <td>#na#</td>\n",
              "      <td>00:00</td>\n",
              "    </tr>\n",
              "    <tr>\n",
              "      <td>2</td>\n",
              "      <td>4.862881</td>\n",
              "      <td>#na#</td>\n",
              "      <td>00:00</td>\n",
              "    </tr>\n",
              "    <tr>\n",
              "      <td>3</td>\n",
              "      <td>4.872694</td>\n",
              "      <td>#na#</td>\n",
              "      <td>00:00</td>\n",
              "    </tr>\n",
              "    <tr>\n",
              "      <td>4</td>\n",
              "      <td>4.871408</td>\n",
              "      <td>#na#</td>\n",
              "      <td>00:00</td>\n",
              "    </tr>\n",
              "    <tr>\n",
              "      <td>5</td>\n",
              "      <td>4.870610</td>\n",
              "      <td>#na#</td>\n",
              "      <td>00:00</td>\n",
              "    </tr>\n",
              "    <tr>\n",
              "      <td>6</td>\n",
              "      <td>4.864833</td>\n",
              "      <td>#na#</td>\n",
              "      <td>00:00</td>\n",
              "    </tr>\n",
              "    <tr>\n",
              "      <td>7</td>\n",
              "      <td>4.863756</td>\n",
              "      <td>#na#</td>\n",
              "      <td>00:00</td>\n",
              "    </tr>\n",
              "    <tr>\n",
              "      <td>8</td>\n",
              "      <td>4.859510</td>\n",
              "      <td>#na#</td>\n",
              "      <td>00:00</td>\n",
              "    </tr>\n",
              "    <tr>\n",
              "      <td>9</td>\n",
              "      <td>4.843816</td>\n",
              "      <td>#na#</td>\n",
              "      <td>00:00</td>\n",
              "    </tr>\n",
              "    <tr>\n",
              "      <td>10</td>\n",
              "      <td>4.808432</td>\n",
              "      <td>#na#</td>\n",
              "      <td>00:00</td>\n",
              "    </tr>\n",
              "    <tr>\n",
              "      <td>11</td>\n",
              "      <td>4.723095</td>\n",
              "      <td>#na#</td>\n",
              "      <td>00:00</td>\n",
              "    </tr>\n",
              "    <tr>\n",
              "      <td>12</td>\n",
              "      <td>4.573263</td>\n",
              "      <td>#na#</td>\n",
              "      <td>00:00</td>\n",
              "    </tr>\n",
              "    <tr>\n",
              "      <td>13</td>\n",
              "      <td>4.376332</td>\n",
              "      <td>#na#</td>\n",
              "      <td>00:00</td>\n",
              "    </tr>\n",
              "    <tr>\n",
              "      <td>14</td>\n",
              "      <td>4.175267</td>\n",
              "      <td>#na#</td>\n",
              "      <td>00:00</td>\n",
              "    </tr>\n",
              "    <tr>\n",
              "      <td>15</td>\n",
              "      <td>3.974712</td>\n",
              "      <td>#na#</td>\n",
              "      <td>00:00</td>\n",
              "    </tr>\n",
              "    <tr>\n",
              "      <td>16</td>\n",
              "      <td>3.806469</td>\n",
              "      <td>#na#</td>\n",
              "      <td>00:00</td>\n",
              "    </tr>\n",
              "    <tr>\n",
              "      <td>17</td>\n",
              "      <td>3.730411</td>\n",
              "      <td>#na#</td>\n",
              "      <td>00:00</td>\n",
              "    </tr>\n",
              "    <tr>\n",
              "      <td>18</td>\n",
              "      <td>4.011280</td>\n",
              "      <td>#na#</td>\n",
              "      <td>00:00</td>\n",
              "    </tr>\n",
              "  </tbody>\n",
              "</table><p>\n",
              "\n",
              "    <div>\n",
              "        <style>\n",
              "            /* Turns off some styling */\n",
              "            progress {\n",
              "                /* gets rid of default border in Firefox and Opera. */\n",
              "                border: none;\n",
              "                /* Needs to be in here for Safari polyfill so background images work as expected. */\n",
              "                background-size: auto;\n",
              "            }\n",
              "            .progress-bar-interrupted, .progress-bar-interrupted::-webkit-progress-bar {\n",
              "                background: #F44336;\n",
              "            }\n",
              "        </style>\n",
              "      <progress value='4' class='' max='5' style='width:300px; height:20px; vertical-align: middle;'></progress>\n",
              "      80.00% [4/5 00:00<00:00 5.3101]\n",
              "    </div>\n",
              "    "
            ],
            "text/plain": [
              "<IPython.core.display.HTML object>"
            ]
          },
          "metadata": {
            "tags": []
          }
        },
        {
          "output_type": "stream",
          "text": [
            "LR Finder is complete, type {learner_name}.recorder.plot() to see the graph.\n"
          ],
          "name": "stdout"
        },
        {
          "output_type": "display_data",
          "data": {
            "image/png": "[encoded data removed]",
            "text/plain": [
              "<Figure size 432x288 with 1 Axes>"
            ]
          },
          "metadata": {
            "tags": [],
            "needs_background": "light"
          }
        }
      ]
    },
    {
      "cell_type": "code",
      "metadata": {
        "id": "io4MHY-x_XJN",
        "colab_type": "code",
        "colab": {
          "base_uri": "https://localhost:8080/",
          "height": 204
        },
        "outputId": "a6d81598-aa44-4f2d-a583-740a9d754f86"
      },
      "source": [
        "# Fit the model based on selected learning rate\n",
        "learn.fit_one_cycle(5, 1e-1, moms=(0.8,0.7))\n",
        "\n",
        "# Save the encoder for use in classification\n",
        "learn.save_encoder('fine_tuned_enc')"
      ],
      "execution_count": 22,
      "outputs": [
        {
          "output_type": "display_data",
          "data": {
            "text/html": [
              "<table border=\"1\" class=\"dataframe\">\n",
              "  <thead>\n",
              "    <tr style=\"text-align: left;\">\n",
              "      <th>epoch</th>\n",
              "      <th>train_loss</th>\n",
              "      <th>valid_loss</th>\n",
              "      <th>accuracy</th>\n",
              "      <th>time</th>\n",
              "    </tr>\n",
              "  </thead>\n",
              "  <tbody>\n",
              "    <tr>\n",
              "      <td>0</td>\n",
              "      <td>4.277686</td>\n",
              "      <td>3.096853</td>\n",
              "      <td>0.289286</td>\n",
              "      <td>00:00</td>\n",
              "    </tr>\n",
              "    <tr>\n",
              "      <td>1</td>\n",
              "      <td>3.538177</td>\n",
              "      <td>2.791060</td>\n",
              "      <td>0.342857</td>\n",
              "      <td>00:00</td>\n",
              "    </tr>\n",
              "    <tr>\n",
              "      <td>2</td>\n",
              "      <td>3.120265</td>\n",
              "      <td>2.627757</td>\n",
              "      <td>0.359821</td>\n",
              "      <td>00:00</td>\n",
              "    </tr>\n",
              "    <tr>\n",
              "      <td>3</td>\n",
              "      <td>2.803739</td>\n",
              "      <td>2.577554</td>\n",
              "      <td>0.380357</td>\n",
              "      <td>00:00</td>\n",
              "    </tr>\n",
              "    <tr>\n",
              "      <td>4</td>\n",
              "      <td>2.568672</td>\n",
              "      <td>2.559088</td>\n",
              "      <td>0.378571</td>\n",
              "      <td>00:00</td>\n",
              "    </tr>\n",
              "  </tbody>\n",
              "</table>"
            ],
            "text/plain": [
              "<IPython.core.display.HTML object>"
            ]
          },
          "metadata": {
            "tags": []
          }
        }
      ]
    },
    {
      "cell_type": "markdown",
      "metadata": {
        "id": "pUGS3o1z_zQr",
        "colab_type": "text"
      },
      "source": [
        "# Re-fit model with classification label"
      ]
    },
    {
      "cell_type": "code",
      "metadata": {
        "id": "L5oQhQFwAAwi",
        "colab_type": "code",
        "colab": {}
      },
      "source": [
        "test = test[['text']]"
      ],
      "execution_count": 23,
      "outputs": []
    },
    {
      "cell_type": "code",
      "metadata": {
        "id": "_DRveFr3_hG9",
        "colab_type": "code",
        "colab": {
          "base_uri": "https://localhost:8080/",
          "height": 238
        },
        "outputId": "fb8519dc-f3fa-4a8d-c04c-67bc8dd926e7"
      },
      "source": [
        "label_cols = ['Alcohol', 'Depression', 'Drugs', 'Suicide']\n",
        "\n",
        "test_datalist = TextList.from_df(test, cols='text', vocab=data.vocab)\n",
        "\n",
        "data_clas = (TextList.from_df(train, cols='text', vocab=data.vocab)\n",
        "             .split_by_rand_pct(0.2)\n",
        "             .label_from_df(cols= label_cols , classes=label_cols)\n",
        "             .add_test(test_datalist)\n",
        "             .databunch(bs=32))\n",
        "\n",
        "data_clas.show_batch()"
      ],
      "execution_count": 24,
      "outputs": [
        {
          "output_type": "display_data",
          "data": {
            "text/html": [
              ""
            ],
            "text/plain": [
              "<IPython.core.display.HTML object>"
            ]
          },
          "metadata": {
            "tags": []
          }
        },
        {
          "output_type": "display_data",
          "data": {
            "text/html": [
              ""
            ],
            "text/plain": [
              "<IPython.core.display.HTML object>"
            ]
          },
          "metadata": {
            "tags": []
          }
        },
        {
          "output_type": "display_data",
          "data": {
            "text/html": [
              ""
            ],
            "text/plain": [
              "<IPython.core.display.HTML object>"
            ]
          },
          "metadata": {
            "tags": []
          }
        },
        {
          "output_type": "display_data",
          "data": {
            "text/html": [
              "<table border=\"1\" class=\"dataframe\">\n",
              "  <thead>\n",
              "    <tr style=\"text-align: right;\">\n",
              "      <th>text</th>\n",
              "      <th>target</th>\n",
              "    </tr>\n",
              "  </thead>\n",
              "  <tbody>\n",
              "    <tr>\n",
              "      <td>xxbos i am financially xxunk over school xxunk and my family xxunk is not xxunk with a lot of xxunk … i have an xxunk xxunk who could xxunk xxunk me but xxunk no xxunk even after xxunk</td>\n",
              "      <td>Depression</td>\n",
              "    </tr>\n",
              "    <tr>\n",
              "      <td>xxbos i am xxunk a lot of challenges in life financially , emotionally , xxunk and with no solutions … xxmaj how can i xxunk xxunk for solutions about depression on xxunk</td>\n",
              "      <td>Depression</td>\n",
              "    </tr>\n",
              "    <tr>\n",
              "      <td>xxbos i feel like the world was against me , xxunk from friends and xxunk who were close to me i xxunk it that my life is more xxunk</td>\n",
              "      <td>Depression</td>\n",
              "    </tr>\n",
              "    <tr>\n",
              "      <td>xxbos xxmaj what can i do to avoid loss of xxunk in xxunk through xxunk in xxunk and xxunk times xxunk on xxunk and xxunk issues</td>\n",
              "      <td>Depression</td>\n",
              "    </tr>\n",
              "    <tr>\n",
              "      <td>xxbos xxmaj why do people take alcohol and how xxunk is it to xxunk life , xxmaj what should one do to avoid taking alcohol</td>\n",
              "      <td>Alcohol</td>\n",
              "    </tr>\n",
              "  </tbody>\n",
              "</table>"
            ],
            "text/plain": [
              "<IPython.core.display.HTML object>"
            ]
          },
          "metadata": {
            "tags": []
          }
        }
      ]
    },
    {
      "cell_type": "code",
      "metadata": {
        "id": "rn_Te4S-AHPX",
        "colab_type": "code",
        "colab": {
          "base_uri": "https://localhost:8080/",
          "height": 934
        },
        "outputId": "67de8871-eff8-4ddf-dfab-faec7c6fb5c3"
      },
      "source": [
        "learn_classifier = text_classifier_learner(data_clas, AWD_LSTM, drop_mult=0.5)\n",
        "\n",
        "# load the encoder saved  \n",
        "learn_classifier.load_encoder('fine_tuned_enc')\n",
        "learn_classifier.freeze()\n",
        "\n",
        "# select the appropriate learning rate\n",
        "learn_classifier.lr_find()\n",
        "\n",
        "# we typically find the point where the slope is steepest\n",
        "learn_classifier.recorder.plot()\n",
        "\n",
        "# Fit the model based on selected learning rate\n",
        "learn_classifier.fit_one_cycle(5, 1e-1, moms=(0.8,0.7))\n",
        "\n",
        "learn_classifier.show_results()"
      ],
      "execution_count": 25,
      "outputs": [
        {
          "output_type": "display_data",
          "data": {
            "text/html": [
              "\n",
              "    <div>\n",
              "        <style>\n",
              "            /* Turns off some styling */\n",
              "            progress {\n",
              "                /* gets rid of default border in Firefox and Opera. */\n",
              "                border: none;\n",
              "                /* Needs to be in here for Safari polyfill so background images work as expected. */\n",
              "                background-size: auto;\n",
              "            }\n",
              "            .progress-bar-interrupted, .progress-bar-interrupted::-webkit-progress-bar {\n",
              "                background: #F44336;\n",
              "            }\n",
              "        </style>\n",
              "      <progress value='6' class='' max='7' style='width:300px; height:20px; vertical-align: middle;'></progress>\n",
              "      85.71% [6/7 00:02<00:00]\n",
              "    </div>\n",
              "    \n",
              "<table border=\"1\" class=\"dataframe\">\n",
              "  <thead>\n",
              "    <tr style=\"text-align: left;\">\n",
              "      <th>epoch</th>\n",
              "      <th>train_loss</th>\n",
              "      <th>valid_loss</th>\n",
              "      <th>time</th>\n",
              "    </tr>\n",
              "  </thead>\n",
              "  <tbody>\n",
              "    <tr>\n",
              "      <td>0</td>\n",
              "      <td>0.728084</td>\n",
              "      <td>#na#</td>\n",
              "      <td>00:00</td>\n",
              "    </tr>\n",
              "    <tr>\n",
              "      <td>1</td>\n",
              "      <td>0.731500</td>\n",
              "      <td>#na#</td>\n",
              "      <td>00:00</td>\n",
              "    </tr>\n",
              "    <tr>\n",
              "      <td>2</td>\n",
              "      <td>0.727431</td>\n",
              "      <td>#na#</td>\n",
              "      <td>00:00</td>\n",
              "    </tr>\n",
              "    <tr>\n",
              "      <td>3</td>\n",
              "      <td>0.697828</td>\n",
              "      <td>#na#</td>\n",
              "      <td>00:00</td>\n",
              "    </tr>\n",
              "    <tr>\n",
              "      <td>4</td>\n",
              "      <td>0.624703</td>\n",
              "      <td>#na#</td>\n",
              "      <td>00:00</td>\n",
              "    </tr>\n",
              "    <tr>\n",
              "      <td>5</td>\n",
              "      <td>0.638426</td>\n",
              "      <td>#na#</td>\n",
              "      <td>00:00</td>\n",
              "    </tr>\n",
              "  </tbody>\n",
              "</table><p>\n",
              "\n",
              "    <div>\n",
              "        <style>\n",
              "            /* Turns off some styling */\n",
              "            progress {\n",
              "                /* gets rid of default border in Firefox and Opera. */\n",
              "                border: none;\n",
              "                /* Needs to be in here for Safari polyfill so background images work as expected. */\n",
              "                background-size: auto;\n",
              "            }\n",
              "            .progress-bar-interrupted, .progress-bar-interrupted::-webkit-progress-bar {\n",
              "                background: #F44336;\n",
              "            }\n",
              "        </style>\n",
              "      <progress value='5' class='' max='15' style='width:300px; height:20px; vertical-align: middle;'></progress>\n",
              "      33.33% [5/15 00:00<00:00 1.3680]\n",
              "    </div>\n",
              "    "
            ],
            "text/plain": [
              "<IPython.core.display.HTML object>"
            ]
          },
          "metadata": {
            "tags": []
          }
        },
        {
          "output_type": "stream",
          "text": [
            "LR Finder is complete, type {learner_name}.recorder.plot() to see the graph.\n"
          ],
          "name": "stdout"
        },
        {
          "output_type": "display_data",
          "data": {
            "text/html": [
              "<table border=\"1\" class=\"dataframe\">\n",
              "  <thead>\n",
              "    <tr style=\"text-align: left;\">\n",
              "      <th>epoch</th>\n",
              "      <th>train_loss</th>\n",
              "      <th>valid_loss</th>\n",
              "      <th>time</th>\n",
              "    </tr>\n",
              "  </thead>\n",
              "  <tbody>\n",
              "    <tr>\n",
              "      <td>0</td>\n",
              "      <td>0.558213</td>\n",
              "      <td>0.370878</td>\n",
              "      <td>00:00</td>\n",
              "    </tr>\n",
              "    <tr>\n",
              "      <td>1</td>\n",
              "      <td>0.476429</td>\n",
              "      <td>0.389133</td>\n",
              "      <td>00:00</td>\n",
              "    </tr>\n",
              "    <tr>\n",
              "      <td>2</td>\n",
              "      <td>0.433930</td>\n",
              "      <td>0.406426</td>\n",
              "      <td>00:00</td>\n",
              "    </tr>\n",
              "    <tr>\n",
              "      <td>3</td>\n",
              "      <td>0.405328</td>\n",
              "      <td>0.328577</td>\n",
              "      <td>00:00</td>\n",
              "    </tr>\n",
              "    <tr>\n",
              "      <td>4</td>\n",
              "      <td>0.380209</td>\n",
              "      <td>0.327843</td>\n",
              "      <td>00:00</td>\n",
              "    </tr>\n",
              "  </tbody>\n",
              "</table>"
            ],
            "text/plain": [
              "<IPython.core.display.HTML object>"
            ]
          },
          "metadata": {
            "tags": []
          }
        },
        {
          "output_type": "display_data",
          "data": {
            "text/html": [
              "<table border=\"1\" class=\"dataframe\">\n",
              "  <thead>\n",
              "    <tr style=\"text-align: right;\">\n",
              "      <th>text</th>\n",
              "      <th>target</th>\n",
              "      <th>prediction</th>\n",
              "    </tr>\n",
              "  </thead>\n",
              "  <tbody>\n",
              "    <tr>\n",
              "      <td>xxbos xxmaj at xxunk , no one xxunk to me , my parents xxunk xxunk and xxunk me , what can i do ?</td>\n",
              "      <td>Depression</td>\n",
              "      <td>Depression</td>\n",
              "    </tr>\n",
              "    <tr>\n",
              "      <td>xxbos i am experiencing a xxunk in xxunk my school xxunk and it was not an xxunk xxunk because of the family issues</td>\n",
              "      <td>Depression</td>\n",
              "      <td>Depression</td>\n",
              "    </tr>\n",
              "    <tr>\n",
              "      <td>xxbos i am xxunk in a xxmaj xxunk xxunk and i would like to know xxunk can i control myself ?</td>\n",
              "      <td>Depression</td>\n",
              "      <td>Depression</td>\n",
              "    </tr>\n",
              "    <tr>\n",
              "      <td>xxbos i do xxunk depression at times and i think the best way to avoid it is xxunk myself xxunk</td>\n",
              "      <td>Depression</td>\n",
              "      <td>Depression</td>\n",
              "    </tr>\n",
              "    <tr>\n",
              "      <td>xxbos xxmaj it xxunk as if my xxunk is xxunk xxmaj xxunk of xxunk xxmaj am feeling much better</td>\n",
              "      <td>Depression</td>\n",
              "      <td>Depression</td>\n",
              "    </tr>\n",
              "  </tbody>\n",
              "</table>"
            ],
            "text/plain": [
              "<IPython.core.display.HTML object>"
            ]
          },
          "metadata": {
            "tags": []
          }
        },
        {
          "output_type": "display_data",
          "data": {
            "image/png": "[encoded data removed]",
            "text/plain": [
              "<Figure size 432x288 with 1 Axes>"
            ]
          },
          "metadata": {
            "tags": [],
            "needs_background": "light"
          }
        }
      ]
    },
    {
      "cell_type": "code",
      "metadata": {
        "id": "5cAAzocDATA1",
        "colab_type": "code",
        "colab": {
          "base_uri": "https://localhost:8080/",
          "height": 170
        },
        "outputId": "178cf6fd-566a-4085-ed77-ef95a0967eb0"
      },
      "source": [
        "preds, target = learn_classifier.get_preds(DatasetType.Test, ordered=True)\n",
        "labels = preds.numpy()\n",
        "\n",
        "\n",
        "\n",
        "labels"
      ],
      "execution_count": 27,
      "outputs": [
        {
          "output_type": "display_data",
          "data": {
            "text/html": [
              ""
            ],
            "text/plain": [
              "<IPython.core.display.HTML object>"
            ]
          },
          "metadata": {
            "tags": []
          }
        },
        {
          "output_type": "execute_result",
          "data": {
            "text/plain": [
              "array([[0.171384, 0.654426, 0.010794, 0.290998],\n",
              "       [0.006985, 0.984571, 0.001019, 0.00206 ],\n",
              "       [0.022031, 0.941499, 0.012788, 0.058216],\n",
              "       [0.028934, 0.92871 , 0.012131, 0.053385],\n",
              "       ...,\n",
              "       [0.046668, 0.95757 , 0.014122, 0.016104],\n",
              "       [0.182849, 0.52896 , 0.078864, 0.158188],\n",
              "       [0.184406, 0.473353, 0.204253, 0.03405 ],\n",
              "       [0.161224, 0.775965, 0.025315, 0.02626 ]], dtype=float32)"
            ]
          },
          "metadata": {
            "tags": []
          },
          "execution_count": 27
        }
      ]
    },
    {
      "cell_type": "code",
      "metadata": {
        "id": "Sb5KPf7NAcXW",
        "colab_type": "code",
        "colab": {
          "base_uri": "https://localhost:8080/",
          "height": 34
        },
        "outputId": "7ea275de-9b08-4b16-8408-b286df8fe39f"
      },
      "source": [
        "labels.shape"
      ],
      "execution_count": 28,
      "outputs": [
        {
          "output_type": "execute_result",
          "data": {
            "text/plain": [
              "(309, 4)"
            ]
          },
          "metadata": {
            "tags": []
          },
          "execution_count": 28
        }
      ]
    },
    {
      "cell_type": "code",
      "metadata": {
        "id": "sl8nHAx9AlVe",
        "colab_type": "code",
        "colab": {
          "base_uri": "https://localhost:8080/",
          "height": 204
        },
        "outputId": "9461cbc8-25fc-4873-ffe4-554285bca917"
      },
      "source": [
        "submission = pd.concat([test,pd.DataFrame(preds.numpy(), columns = label_cols)], axis=1)\n",
        "\n",
        "submission.to_csv('submission.csv', index=False)\n",
        "submission.head()"
      ],
      "execution_count": 30,
      "outputs": [
        {
          "output_type": "execute_result",
          "data": {
            "text/html": [
              "<div>\n",
              "<style scoped>\n",
              "    .dataframe tbody tr th:only-of-type {\n",
              "        vertical-align: middle;\n",
              "    }\n",
              "\n",
              "    .dataframe tbody tr th {\n",
              "        vertical-align: top;\n",
              "    }\n",
              "\n",
              "    .dataframe thead th {\n",
              "        text-align: right;\n",
              "    }\n",
              "</style>\n",
              "<table border=\"1\" class=\"dataframe\">\n",
              "  <thead>\n",
              "    <tr style=\"text-align: right;\">\n",
              "      <th></th>\n",
              "      <th>ID</th>\n",
              "      <th>text</th>\n",
              "      <th>Alcohol</th>\n",
              "      <th>Depression</th>\n",
              "      <th>Drugs</th>\n",
              "      <th>Suicide</th>\n",
              "    </tr>\n",
              "  </thead>\n",
              "  <tbody>\n",
              "    <tr>\n",
              "      <th>0</th>\n",
              "      <td>02V56KMO</td>\n",
              "      <td>How to overcome bad feelings and emotions</td>\n",
              "      <td>0.171384</td>\n",
              "      <td>0.654426</td>\n",
              "      <td>0.010794</td>\n",
              "      <td>0.290998</td>\n",
              "    </tr>\n",
              "    <tr>\n",
              "      <th>1</th>\n",
              "      <td>03BMGTOK</td>\n",
              "      <td>I feel like giving up in life</td>\n",
              "      <td>0.006985</td>\n",
              "      <td>0.984571</td>\n",
              "      <td>0.001019</td>\n",
              "      <td>0.002060</td>\n",
              "    </tr>\n",
              "    <tr>\n",
              "      <th>2</th>\n",
              "      <td>03LZVFM6</td>\n",
              "      <td>I was so depressed feel like got no strength t...</td>\n",
              "      <td>0.022031</td>\n",
              "      <td>0.941499</td>\n",
              "      <td>0.012788</td>\n",
              "      <td>0.058216</td>\n",
              "    </tr>\n",
              "    <tr>\n",
              "      <th>3</th>\n",
              "      <td>0EPULUM5</td>\n",
              "      <td>I feel so low especially since I had no one to...</td>\n",
              "      <td>0.028934</td>\n",
              "      <td>0.928710</td>\n",
              "      <td>0.012131</td>\n",
              "      <td>0.053385</td>\n",
              "    </tr>\n",
              "    <tr>\n",
              "      <th>4</th>\n",
              "      <td>0GM4C5GD</td>\n",
              "      <td>can i be successful when I am a drug addict?</td>\n",
              "      <td>0.112417</td>\n",
              "      <td>0.607146</td>\n",
              "      <td>0.112817</td>\n",
              "      <td>0.129334</td>\n",
              "    </tr>\n",
              "  </tbody>\n",
              "</table>\n",
              "</div>"
            ],
            "text/plain": [
              "         ID  ...   Suicide\n",
              "0  02V56KMO  ...  0.290998\n",
              "1  03BMGTOK  ...  0.002060\n",
              "2  03LZVFM6  ...  0.058216\n",
              "3  0EPULUM5  ...  0.053385\n",
              "4  0GM4C5GD  ...  0.129334\n",
              "\n",
              "[5 rows x 6 columns]"
            ]
          },
          "metadata": {
            "tags": []
          },
          "execution_count": 30
        }
      ]
    },
    {
      "cell_type": "code",
      "metadata": {
        "id": "REHtOBoMBIDr",
        "colab_type": "code",
        "colab": {
          "base_uri": "https://localhost:8080/",
          "height": 824
        },
        "outputId": "5f4bbf37-85a3-45a7-8425-dbc56b2ac822"
      },
      "source": [
        "submission.tail(25)"
      ],
      "execution_count": 31,
      "outputs": [
        {
          "output_type": "execute_result",
          "data": {
            "text/html": [
              "<div>\n",
              "<style scoped>\n",
              "    .dataframe tbody tr th:only-of-type {\n",
              "        vertical-align: middle;\n",
              "    }\n",
              "\n",
              "    .dataframe tbody tr th {\n",
              "        vertical-align: top;\n",
              "    }\n",
              "\n",
              "    .dataframe thead th {\n",
              "        text-align: right;\n",
              "    }\n",
              "</style>\n",
              "<table border=\"1\" class=\"dataframe\">\n",
              "  <thead>\n",
              "    <tr style=\"text-align: right;\">\n",
              "      <th></th>\n",
              "      <th>ID</th>\n",
              "      <th>text</th>\n",
              "      <th>Alcohol</th>\n",
              "      <th>Depression</th>\n",
              "      <th>Drugs</th>\n",
              "      <th>Suicide</th>\n",
              "    </tr>\n",
              "  </thead>\n",
              "  <tbody>\n",
              "    <tr>\n",
              "      <th>284</th>\n",
              "      <td>X2E196ZE</td>\n",
              "      <td>How to completely stop using alcohol, -possibl...</td>\n",
              "      <td>0.087702</td>\n",
              "      <td>0.413501</td>\n",
              "      <td>0.039381</td>\n",
              "      <td>0.333901</td>\n",
              "    </tr>\n",
              "    <tr>\n",
              "      <th>285</th>\n",
              "      <td>X72WL59G</td>\n",
              "      <td>I feel like I want to end my life</td>\n",
              "      <td>0.008309</td>\n",
              "      <td>0.994654</td>\n",
              "      <td>0.000117</td>\n",
              "      <td>0.002349</td>\n",
              "    </tr>\n",
              "    <tr>\n",
              "      <th>286</th>\n",
              "      <td>XDK01LYR</td>\n",
              "      <td>I am anxious of what is going to happen in the...</td>\n",
              "      <td>0.107342</td>\n",
              "      <td>0.906286</td>\n",
              "      <td>0.011083</td>\n",
              "      <td>0.075783</td>\n",
              "    </tr>\n",
              "    <tr>\n",
              "      <th>287</th>\n",
              "      <td>XLE74IX1</td>\n",
              "      <td>Can the habit be stopped at once?</td>\n",
              "      <td>0.166374</td>\n",
              "      <td>0.591103</td>\n",
              "      <td>0.128671</td>\n",
              "      <td>0.064896</td>\n",
              "    </tr>\n",
              "    <tr>\n",
              "      <th>288</th>\n",
              "      <td>XU4HGW9C</td>\n",
              "      <td>How can I stop drinking?</td>\n",
              "      <td>0.641919</td>\n",
              "      <td>0.189782</td>\n",
              "      <td>0.121704</td>\n",
              "      <td>0.018256</td>\n",
              "    </tr>\n",
              "    <tr>\n",
              "      <th>289</th>\n",
              "      <td>XUHRT8P4</td>\n",
              "      <td>I don't see the need to live in the world</td>\n",
              "      <td>0.047580</td>\n",
              "      <td>0.869485</td>\n",
              "      <td>0.011660</td>\n",
              "      <td>0.084254</td>\n",
              "    </tr>\n",
              "    <tr>\n",
              "      <th>290</th>\n",
              "      <td>XXMTEUX8</td>\n",
              "      <td>How do I go about solving my problem?</td>\n",
              "      <td>0.149255</td>\n",
              "      <td>0.680091</td>\n",
              "      <td>0.059735</td>\n",
              "      <td>0.093370</td>\n",
              "    </tr>\n",
              "    <tr>\n",
              "      <th>291</th>\n",
              "      <td>XYRTMPGC</td>\n",
              "      <td>I feel depressed because of lack of school fee...</td>\n",
              "      <td>0.110609</td>\n",
              "      <td>0.560192</td>\n",
              "      <td>0.037806</td>\n",
              "      <td>0.302899</td>\n",
              "    </tr>\n",
              "    <tr>\n",
              "      <th>292</th>\n",
              "      <td>Y3QTMIO7</td>\n",
              "      <td>Dumped with my boyfriend?</td>\n",
              "      <td>0.053156</td>\n",
              "      <td>0.899314</td>\n",
              "      <td>0.020745</td>\n",
              "      <td>0.018219</td>\n",
              "    </tr>\n",
              "    <tr>\n",
              "      <th>293</th>\n",
              "      <td>Y5S49JQ7</td>\n",
              "      <td>Asked for financial support from wellwishers</td>\n",
              "      <td>0.016261</td>\n",
              "      <td>0.952796</td>\n",
              "      <td>0.001504</td>\n",
              "      <td>0.017024</td>\n",
              "    </tr>\n",
              "    <tr>\n",
              "      <th>294</th>\n",
              "      <td>YAK9NY3K</td>\n",
              "      <td>how can I limit my drinking</td>\n",
              "      <td>0.679937</td>\n",
              "      <td>0.448213</td>\n",
              "      <td>0.008903</td>\n",
              "      <td>0.025500</td>\n",
              "    </tr>\n",
              "    <tr>\n",
              "      <th>295</th>\n",
              "      <td>YCHHQT18</td>\n",
              "      <td>If a person rejects you, what would you do?</td>\n",
              "      <td>0.136789</td>\n",
              "      <td>0.478649</td>\n",
              "      <td>0.122979</td>\n",
              "      <td>0.152075</td>\n",
              "    </tr>\n",
              "    <tr>\n",
              "      <th>296</th>\n",
              "      <td>YDIWQZA5</td>\n",
              "      <td>Is suicide the right decision?</td>\n",
              "      <td>0.204519</td>\n",
              "      <td>0.338988</td>\n",
              "      <td>0.309216</td>\n",
              "      <td>0.106827</td>\n",
              "    </tr>\n",
              "    <tr>\n",
              "      <th>297</th>\n",
              "      <td>YG9CPVR0</td>\n",
              "      <td>What can i do to pass at school? what can i do...</td>\n",
              "      <td>0.100977</td>\n",
              "      <td>0.271789</td>\n",
              "      <td>0.251086</td>\n",
              "      <td>0.227124</td>\n",
              "    </tr>\n",
              "    <tr>\n",
              "      <th>298</th>\n",
              "      <td>YIJ0CEQJ</td>\n",
              "      <td>What are the effects of abusing bhang?</td>\n",
              "      <td>0.356821</td>\n",
              "      <td>0.132336</td>\n",
              "      <td>0.627978</td>\n",
              "      <td>0.023185</td>\n",
              "    </tr>\n",
              "    <tr>\n",
              "      <th>299</th>\n",
              "      <td>YMT18ON6</td>\n",
              "      <td>I feel like committing suicide</td>\n",
              "      <td>0.005582</td>\n",
              "      <td>0.989008</td>\n",
              "      <td>0.000767</td>\n",
              "      <td>0.015968</td>\n",
              "    </tr>\n",
              "    <tr>\n",
              "      <th>300</th>\n",
              "      <td>YNOCXCJN</td>\n",
              "      <td>Measures to handle depression and feeling</td>\n",
              "      <td>0.048394</td>\n",
              "      <td>0.913323</td>\n",
              "      <td>0.030505</td>\n",
              "      <td>0.082766</td>\n",
              "    </tr>\n",
              "    <tr>\n",
              "      <th>301</th>\n",
              "      <td>YO2RYXV5</td>\n",
              "      <td>I feel like I've lost hope</td>\n",
              "      <td>0.000425</td>\n",
              "      <td>0.999362</td>\n",
              "      <td>0.000121</td>\n",
              "      <td>0.000361</td>\n",
              "    </tr>\n",
              "    <tr>\n",
              "      <th>302</th>\n",
              "      <td>YSSD2IXK</td>\n",
              "      <td>How to stop drinking?</td>\n",
              "      <td>0.540269</td>\n",
              "      <td>0.190686</td>\n",
              "      <td>0.170201</td>\n",
              "      <td>0.036659</td>\n",
              "    </tr>\n",
              "    <tr>\n",
              "      <th>303</th>\n",
              "      <td>Z78UM6R8</td>\n",
              "      <td>Financial Crisis</td>\n",
              "      <td>0.101992</td>\n",
              "      <td>0.778889</td>\n",
              "      <td>0.023609</td>\n",
              "      <td>0.018890</td>\n",
              "    </tr>\n",
              "    <tr>\n",
              "      <th>304</th>\n",
              "      <td>Z9A6ACLK</td>\n",
              "      <td>Yes</td>\n",
              "      <td>0.070466</td>\n",
              "      <td>0.919233</td>\n",
              "      <td>0.048636</td>\n",
              "      <td>0.011895</td>\n",
              "    </tr>\n",
              "    <tr>\n",
              "      <th>305</th>\n",
              "      <td>ZDUOIGKN</td>\n",
              "      <td>My girlfriend dumped me</td>\n",
              "      <td>0.046668</td>\n",
              "      <td>0.957570</td>\n",
              "      <td>0.014122</td>\n",
              "      <td>0.016104</td>\n",
              "    </tr>\n",
              "    <tr>\n",
              "      <th>306</th>\n",
              "      <td>ZHQ60CCH</td>\n",
              "      <td>How can I go back to being my old self?</td>\n",
              "      <td>0.182849</td>\n",
              "      <td>0.528960</td>\n",
              "      <td>0.078864</td>\n",
              "      <td>0.158188</td>\n",
              "    </tr>\n",
              "    <tr>\n",
              "      <th>307</th>\n",
              "      <td>ZVIJMA4O</td>\n",
              "      <td>Is it true bhang is  medicinal?</td>\n",
              "      <td>0.184406</td>\n",
              "      <td>0.473353</td>\n",
              "      <td>0.204253</td>\n",
              "      <td>0.034050</td>\n",
              "    </tr>\n",
              "    <tr>\n",
              "      <th>308</th>\n",
              "      <td>ZYIFAY98</td>\n",
              "      <td>how can I overcome the problem?</td>\n",
              "      <td>0.161224</td>\n",
              "      <td>0.775965</td>\n",
              "      <td>0.025315</td>\n",
              "      <td>0.026260</td>\n",
              "    </tr>\n",
              "  </tbody>\n",
              "</table>\n",
              "</div>"
            ],
            "text/plain": [
              "           ID  ...   Suicide\n",
              "284  X2E196ZE  ...  0.333901\n",
              "285  X72WL59G  ...  0.002349\n",
              "286  XDK01LYR  ...  0.075783\n",
              "287  XLE74IX1  ...  0.064896\n",
              "288  XU4HGW9C  ...  0.018256\n",
              "289  XUHRT8P4  ...  0.084254\n",
              "290  XXMTEUX8  ...  0.093370\n",
              "291  XYRTMPGC  ...  0.302899\n",
              "292  Y3QTMIO7  ...  0.018219\n",
              "293  Y5S49JQ7  ...  0.017024\n",
              "294  YAK9NY3K  ...  0.025500\n",
              "295  YCHHQT18  ...  0.152075\n",
              "296  YDIWQZA5  ...  0.106827\n",
              "297  YG9CPVR0  ...  0.227124\n",
              "298  YIJ0CEQJ  ...  0.023185\n",
              "299  YMT18ON6  ...  0.015968\n",
              "300  YNOCXCJN  ...  0.082766\n",
              "301  YO2RYXV5  ...  0.000361\n",
              "302  YSSD2IXK  ...  0.036659\n",
              "303  Z78UM6R8  ...  0.018890\n",
              "304  Z9A6ACLK  ...  0.011895\n",
              "305  ZDUOIGKN  ...  0.016104\n",
              "306  ZHQ60CCH  ...  0.158188\n",
              "307  ZVIJMA4O  ...  0.034050\n",
              "308  ZYIFAY98  ...  0.026260\n",
              "\n",
              "[25 rows x 6 columns]"
            ]
          },
          "metadata": {
            "tags": []
          },
          "execution_count": 31
        }
      ]
    },
    {
      "cell_type": "code",
      "metadata": {
        "id": "Pqi0ytkjBJ9u",
        "colab_type": "code",
        "colab": {}
      },
      "source": [
        "submission = submission[['ID','Depression','Alcohol','Suicide','Drugs']]"
      ],
      "execution_count": 32,
      "outputs": []
    },
    {
      "cell_type": "code",
      "metadata": {
        "id": "m97HvRNsDET7",
        "colab_type": "code",
        "colab": {
          "base_uri": "https://localhost:8080/",
          "height": 824
        },
        "outputId": "07d75f7c-a594-4044-c8f3-e3873623251d"
      },
      "source": [
        "submission.tail(25)"
      ],
      "execution_count": 33,
      "outputs": [
        {
          "output_type": "execute_result",
          "data": {
            "text/html": [
              "<div>\n",
              "<style scoped>\n",
              "    .dataframe tbody tr th:only-of-type {\n",
              "        vertical-align: middle;\n",
              "    }\n",
              "\n",
              "    .dataframe tbody tr th {\n",
              "        vertical-align: top;\n",
              "    }\n",
              "\n",
              "    .dataframe thead th {\n",
              "        text-align: right;\n",
              "    }\n",
              "</style>\n",
              "<table border=\"1\" class=\"dataframe\">\n",
              "  <thead>\n",
              "    <tr style=\"text-align: right;\">\n",
              "      <th></th>\n",
              "      <th>ID</th>\n",
              "      <th>Depression</th>\n",
              "      <th>Alcohol</th>\n",
              "      <th>Suicide</th>\n",
              "      <th>Drugs</th>\n",
              "    </tr>\n",
              "  </thead>\n",
              "  <tbody>\n",
              "    <tr>\n",
              "      <th>284</th>\n",
              "      <td>X2E196ZE</td>\n",
              "      <td>0.413501</td>\n",
              "      <td>0.087702</td>\n",
              "      <td>0.333901</td>\n",
              "      <td>0.039381</td>\n",
              "    </tr>\n",
              "    <tr>\n",
              "      <th>285</th>\n",
              "      <td>X72WL59G</td>\n",
              "      <td>0.994654</td>\n",
              "      <td>0.008309</td>\n",
              "      <td>0.002349</td>\n",
              "      <td>0.000117</td>\n",
              "    </tr>\n",
              "    <tr>\n",
              "      <th>286</th>\n",
              "      <td>XDK01LYR</td>\n",
              "      <td>0.906286</td>\n",
              "      <td>0.107342</td>\n",
              "      <td>0.075783</td>\n",
              "      <td>0.011083</td>\n",
              "    </tr>\n",
              "    <tr>\n",
              "      <th>287</th>\n",
              "      <td>XLE74IX1</td>\n",
              "      <td>0.591103</td>\n",
              "      <td>0.166374</td>\n",
              "      <td>0.064896</td>\n",
              "      <td>0.128671</td>\n",
              "    </tr>\n",
              "    <tr>\n",
              "      <th>288</th>\n",
              "      <td>XU4HGW9C</td>\n",
              "      <td>0.189782</td>\n",
              "      <td>0.641919</td>\n",
              "      <td>0.018256</td>\n",
              "      <td>0.121704</td>\n",
              "    </tr>\n",
              "    <tr>\n",
              "      <th>289</th>\n",
              "      <td>XUHRT8P4</td>\n",
              "      <td>0.869485</td>\n",
              "      <td>0.047580</td>\n",
              "      <td>0.084254</td>\n",
              "      <td>0.011660</td>\n",
              "    </tr>\n",
              "    <tr>\n",
              "      <th>290</th>\n",
              "      <td>XXMTEUX8</td>\n",
              "      <td>0.680091</td>\n",
              "      <td>0.149255</td>\n",
              "      <td>0.093370</td>\n",
              "      <td>0.059735</td>\n",
              "    </tr>\n",
              "    <tr>\n",
              "      <th>291</th>\n",
              "      <td>XYRTMPGC</td>\n",
              "      <td>0.560192</td>\n",
              "      <td>0.110609</td>\n",
              "      <td>0.302899</td>\n",
              "      <td>0.037806</td>\n",
              "    </tr>\n",
              "    <tr>\n",
              "      <th>292</th>\n",
              "      <td>Y3QTMIO7</td>\n",
              "      <td>0.899314</td>\n",
              "      <td>0.053156</td>\n",
              "      <td>0.018219</td>\n",
              "      <td>0.020745</td>\n",
              "    </tr>\n",
              "    <tr>\n",
              "      <th>293</th>\n",
              "      <td>Y5S49JQ7</td>\n",
              "      <td>0.952796</td>\n",
              "      <td>0.016261</td>\n",
              "      <td>0.017024</td>\n",
              "      <td>0.001504</td>\n",
              "    </tr>\n",
              "    <tr>\n",
              "      <th>294</th>\n",
              "      <td>YAK9NY3K</td>\n",
              "      <td>0.448213</td>\n",
              "      <td>0.679937</td>\n",
              "      <td>0.025500</td>\n",
              "      <td>0.008903</td>\n",
              "    </tr>\n",
              "    <tr>\n",
              "      <th>295</th>\n",
              "      <td>YCHHQT18</td>\n",
              "      <td>0.478649</td>\n",
              "      <td>0.136789</td>\n",
              "      <td>0.152075</td>\n",
              "      <td>0.122979</td>\n",
              "    </tr>\n",
              "    <tr>\n",
              "      <th>296</th>\n",
              "      <td>YDIWQZA5</td>\n",
              "      <td>0.338988</td>\n",
              "      <td>0.204519</td>\n",
              "      <td>0.106827</td>\n",
              "      <td>0.309216</td>\n",
              "    </tr>\n",
              "    <tr>\n",
              "      <th>297</th>\n",
              "      <td>YG9CPVR0</td>\n",
              "      <td>0.271789</td>\n",
              "      <td>0.100977</td>\n",
              "      <td>0.227124</td>\n",
              "      <td>0.251086</td>\n",
              "    </tr>\n",
              "    <tr>\n",
              "      <th>298</th>\n",
              "      <td>YIJ0CEQJ</td>\n",
              "      <td>0.132336</td>\n",
              "      <td>0.356821</td>\n",
              "      <td>0.023185</td>\n",
              "      <td>0.627978</td>\n",
              "    </tr>\n",
              "    <tr>\n",
              "      <th>299</th>\n",
              "      <td>YMT18ON6</td>\n",
              "      <td>0.989008</td>\n",
              "      <td>0.005582</td>\n",
              "      <td>0.015968</td>\n",
              "      <td>0.000767</td>\n",
              "    </tr>\n",
              "    <tr>\n",
              "      <th>300</th>\n",
              "      <td>YNOCXCJN</td>\n",
              "      <td>0.913323</td>\n",
              "      <td>0.048394</td>\n",
              "      <td>0.082766</td>\n",
              "      <td>0.030505</td>\n",
              "    </tr>\n",
              "    <tr>\n",
              "      <th>301</th>\n",
              "      <td>YO2RYXV5</td>\n",
              "      <td>0.999362</td>\n",
              "      <td>0.000425</td>\n",
              "      <td>0.000361</td>\n",
              "      <td>0.000121</td>\n",
              "    </tr>\n",
              "    <tr>\n",
              "      <th>302</th>\n",
              "      <td>YSSD2IXK</td>\n",
              "      <td>0.190686</td>\n",
              "      <td>0.540269</td>\n",
              "      <td>0.036659</td>\n",
              "      <td>0.170201</td>\n",
              "    </tr>\n",
              "    <tr>\n",
              "      <th>303</th>\n",
              "      <td>Z78UM6R8</td>\n",
              "      <td>0.778889</td>\n",
              "      <td>0.101992</td>\n",
              "      <td>0.018890</td>\n",
              "      <td>0.023609</td>\n",
              "    </tr>\n",
              "    <tr>\n",
              "      <th>304</th>\n",
              "      <td>Z9A6ACLK</td>\n",
              "      <td>0.919233</td>\n",
              "      <td>0.070466</td>\n",
              "      <td>0.011895</td>\n",
              "      <td>0.048636</td>\n",
              "    </tr>\n",
              "    <tr>\n",
              "      <th>305</th>\n",
              "      <td>ZDUOIGKN</td>\n",
              "      <td>0.957570</td>\n",
              "      <td>0.046668</td>\n",
              "      <td>0.016104</td>\n",
              "      <td>0.014122</td>\n",
              "    </tr>\n",
              "    <tr>\n",
              "      <th>306</th>\n",
              "      <td>ZHQ60CCH</td>\n",
              "      <td>0.528960</td>\n",
              "      <td>0.182849</td>\n",
              "      <td>0.158188</td>\n",
              "      <td>0.078864</td>\n",
              "    </tr>\n",
              "    <tr>\n",
              "      <th>307</th>\n",
              "      <td>ZVIJMA4O</td>\n",
              "      <td>0.473353</td>\n",
              "      <td>0.184406</td>\n",
              "      <td>0.034050</td>\n",
              "      <td>0.204253</td>\n",
              "    </tr>\n",
              "    <tr>\n",
              "      <th>308</th>\n",
              "      <td>ZYIFAY98</td>\n",
              "      <td>0.775965</td>\n",
              "      <td>0.161224</td>\n",
              "      <td>0.026260</td>\n",
              "      <td>0.025315</td>\n",
              "    </tr>\n",
              "  </tbody>\n",
              "</table>\n",
              "</div>"
            ],
            "text/plain": [
              "           ID  Depression   Alcohol   Suicide     Drugs\n",
              "284  X2E196ZE    0.413501  0.087702  0.333901  0.039381\n",
              "285  X72WL59G    0.994654  0.008309  0.002349  0.000117\n",
              "286  XDK01LYR    0.906286  0.107342  0.075783  0.011083\n",
              "287  XLE74IX1    0.591103  0.166374  0.064896  0.128671\n",
              "288  XU4HGW9C    0.189782  0.641919  0.018256  0.121704\n",
              "289  XUHRT8P4    0.869485  0.047580  0.084254  0.011660\n",
              "290  XXMTEUX8    0.680091  0.149255  0.093370  0.059735\n",
              "291  XYRTMPGC    0.560192  0.110609  0.302899  0.037806\n",
              "292  Y3QTMIO7    0.899314  0.053156  0.018219  0.020745\n",
              "293  Y5S49JQ7    0.952796  0.016261  0.017024  0.001504\n",
              "294  YAK9NY3K    0.448213  0.679937  0.025500  0.008903\n",
              "295  YCHHQT18    0.478649  0.136789  0.152075  0.122979\n",
              "296  YDIWQZA5    0.338988  0.204519  0.106827  0.309216\n",
              "297  YG9CPVR0    0.271789  0.100977  0.227124  0.251086\n",
              "298  YIJ0CEQJ    0.132336  0.356821  0.023185  0.627978\n",
              "299  YMT18ON6    0.989008  0.005582  0.015968  0.000767\n",
              "300  YNOCXCJN    0.913323  0.048394  0.082766  0.030505\n",
              "301  YO2RYXV5    0.999362  0.000425  0.000361  0.000121\n",
              "302  YSSD2IXK    0.190686  0.540269  0.036659  0.170201\n",
              "303  Z78UM6R8    0.778889  0.101992  0.018890  0.023609\n",
              "304  Z9A6ACLK    0.919233  0.070466  0.011895  0.048636\n",
              "305  ZDUOIGKN    0.957570  0.046668  0.016104  0.014122\n",
              "306  ZHQ60CCH    0.528960  0.182849  0.158188  0.078864\n",
              "307  ZVIJMA4O    0.473353  0.184406  0.034050  0.204253\n",
              "308  ZYIFAY98    0.775965  0.161224  0.026260  0.025315"
            ]
          },
          "metadata": {
            "tags": []
          },
          "execution_count": 33
        }
      ]
    },
    {
      "cell_type": "code",
      "metadata": {
        "id": "VANrm1fkDLJe",
        "colab_type": "code",
        "colab": {}
      },
      "source": [
        "submission.to_csv('submission.csv', index=False)"
      ],
      "execution_count": 34,
      "outputs": []
    }
  ]
}